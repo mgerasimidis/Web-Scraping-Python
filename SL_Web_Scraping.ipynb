{
 "cells": [
  {
   "cell_type": "code",
   "execution_count": 1,
   "id": "a3cce0a4",
   "metadata": {},
   "outputs": [],
   "source": [
    "import requests\n",
    "from bs4 import BeautifulSoup\n",
    "from tqdm.notebook import tqdm\n",
    "from time import sleep\n",
    "import pandas as pd\n",
    "from datetime import datetime"
   ]
  },
  {
   "cell_type": "code",
   "execution_count": 54,
   "id": "b8c8eaff",
   "metadata": {},
   "outputs": [
    {
     "data": {
      "text/plain": [
       "'https://www.slgr.gr/el/schedule/20/103/212201/'"
      ]
     },
     "execution_count": 54,
     "metadata": {},
     "output_type": "execute_result"
    }
   ],
   "source": [
    "main_link = 'https://www.slgr.gr/el/schedule/20/103/2122'\n",
    "page_one = main_link + '01/'\n",
    "page_one"
   ]
  },
  {
   "cell_type": "code",
   "execution_count": 55,
   "id": "cceff3dc",
   "metadata": {},
   "outputs": [],
   "source": [
    "response = requests.get(page_one, headers= {'User-agent': 'Chrome'}, timeout= 15)"
   ]
  },
  {
   "cell_type": "code",
   "execution_count": 56,
   "id": "1fca6f20",
   "metadata": {},
   "outputs": [
    {
     "data": {
      "text/plain": [
       "200"
      ]
     },
     "execution_count": 56,
     "metadata": {},
     "output_type": "execute_result"
    }
   ],
   "source": [
    "response.status_code"
   ]
  },
  {
   "cell_type": "code",
   "execution_count": 57,
   "id": "3c82f2e3",
   "metadata": {},
   "outputs": [],
   "source": [
    "soup = BeautifulSoup(response.content, 'html.parser')"
   ]
  },
  {
   "cell_type": "markdown",
   "id": "6693ea55",
   "metadata": {},
   "source": [
    "#### Go to the schedule page where all info is (seasons, games etc)"
   ]
  },
  {
   "cell_type": "code",
   "execution_count": 58,
   "id": "aa69ba85",
   "metadata": {},
   "outputs": [],
   "source": [
    "table = soup.find('div',{'class':'schedule-page'})"
   ]
  },
  {
   "cell_type": "code",
   "execution_count": 59,
   "id": "11fc8897",
   "metadata": {
    "scrolled": true
   },
   "outputs": [
    {
     "data": {
      "text/plain": [
       "[<a href=\"/el/schedule/20/\">\n",
       " <li>\n",
       "                                     2021-2022\n",
       "                                 </li>\n",
       " </a>,\n",
       " <a href=\"/el/schedule/19/\">\n",
       " <li>\n",
       "                                     2020-2021\n",
       "                                 </li>\n",
       " </a>,\n",
       " <a href=\"/el/schedule/18/\">\n",
       " <li>\n",
       "                                     2019-2020\n",
       "                                 </li>\n",
       " </a>,\n",
       " <a href=\"/el/schedule/17/\">\n",
       " <li>\n",
       "                                     2018-2019\n",
       "                                 </li>\n",
       " </a>,\n",
       " <a href=\"/el/schedule/16/\">\n",
       " <li>\n",
       "                                     2017-2018\n",
       "                                 </li>\n",
       " </a>,\n",
       " <a href=\"/el/schedule/15/\">\n",
       " <li>\n",
       "                                     2016-2017\n",
       "                                 </li>\n",
       " </a>,\n",
       " <a href=\"/el/schedule/14/\">\n",
       " <li>\n",
       "                                     2015-2016\n",
       "                                 </li>\n",
       " </a>,\n",
       " <a href=\"/el/schedule/13/\">\n",
       " <li>\n",
       "                                     2014-2015\n",
       "                                 </li>\n",
       " </a>,\n",
       " <a href=\"/el/schedule/12/\">\n",
       " <li>\n",
       "                                     2013-2014\n",
       "                                 </li>\n",
       " </a>,\n",
       " <a href=\"/el/schedule/11/\">\n",
       " <li>\n",
       "                                     2012-2013\n",
       "                                 </li>\n",
       " </a>,\n",
       " <a href=\"/el/schedule/10/\">\n",
       " <li>\n",
       "                                     2011-2012\n",
       "                                 </li>\n",
       " </a>,\n",
       " <a href=\"/el/schedule/9/\">\n",
       " <li>\n",
       "                                     2010-2011\n",
       "                                 </li>\n",
       " </a>,\n",
       " <a href=\"/el/schedule/7/\">\n",
       " <li>\n",
       "                                     2009-2010\n",
       "                                 </li>\n",
       " </a>,\n",
       " <a href=\"/el/schedule/6/\">\n",
       " <li>\n",
       "                                     2008-2009\n",
       "                                 </li>\n",
       " </a>,\n",
       " <a href=\"/el/schedule/5/\">\n",
       " <li>\n",
       "                                     2007-2008\n",
       "                                 </li>\n",
       " </a>,\n",
       " <a href=\"/el/schedule/4/\">\n",
       " <li>\n",
       "                                     2006-2007\n",
       "                                 </li>\n",
       " </a>]"
      ]
     },
     "execution_count": 59,
     "metadata": {},
     "output_type": "execute_result"
    }
   ],
   "source": [
    "seasons = table.find_all('div', {'class':'row'})[0].find('li').find_all('a')\n",
    "seasons"
   ]
  },
  {
   "cell_type": "markdown",
   "id": "342111af",
   "metadata": {},
   "source": [
    "#### Get links for each season"
   ]
  },
  {
   "cell_type": "code",
   "execution_count": 60,
   "id": "27293cd2",
   "metadata": {},
   "outputs": [],
   "source": [
    "sl_seasons = []\n",
    "for i in range(len(seasons)):\n",
    "    sl_seasons.append(table.find_all('div', {'class':'row'})[0].find('li').find_all('a')[i]['href'])"
   ]
  },
  {
   "cell_type": "code",
   "execution_count": 61,
   "id": "390bebfc",
   "metadata": {},
   "outputs": [],
   "source": [
    "sl_link = 'https://www.slgr.gr'"
   ]
  },
  {
   "cell_type": "code",
   "execution_count": 34,
   "id": "93f3f9e6",
   "metadata": {},
   "outputs": [
    {
     "data": {
      "text/plain": [
       "['/el/schedule/20/',\n",
       " '/el/schedule/19/',\n",
       " '/el/schedule/18/',\n",
       " '/el/schedule/17/',\n",
       " '/el/schedule/16/',\n",
       " '/el/schedule/15/',\n",
       " '/el/schedule/14/',\n",
       " '/el/schedule/13/',\n",
       " '/el/schedule/12/',\n",
       " '/el/schedule/11/',\n",
       " '/el/schedule/10/',\n",
       " '/el/schedule/9/',\n",
       " '/el/schedule/7/',\n",
       " '/el/schedule/6/',\n",
       " '/el/schedule/5/',\n",
       " '/el/schedule/4/']"
      ]
     },
     "execution_count": 34,
     "metadata": {},
     "output_type": "execute_result"
    }
   ],
   "source": [
    "sl_seasons"
   ]
  },
  {
   "cell_type": "code",
   "execution_count": 35,
   "id": "1cd1a4df",
   "metadata": {},
   "outputs": [],
   "source": [
    "season_links = [sl_link + link for link in sl_seasons]"
   ]
  },
  {
   "cell_type": "code",
   "execution_count": 36,
   "id": "df1758c4",
   "metadata": {
    "scrolled": true
   },
   "outputs": [
    {
     "data": {
      "text/plain": [
       "['https://www.slgr.gr/el/schedule/20/',\n",
       " 'https://www.slgr.gr/el/schedule/19/',\n",
       " 'https://www.slgr.gr/el/schedule/18/',\n",
       " 'https://www.slgr.gr/el/schedule/17/',\n",
       " 'https://www.slgr.gr/el/schedule/16/',\n",
       " 'https://www.slgr.gr/el/schedule/15/',\n",
       " 'https://www.slgr.gr/el/schedule/14/',\n",
       " 'https://www.slgr.gr/el/schedule/13/',\n",
       " 'https://www.slgr.gr/el/schedule/12/',\n",
       " 'https://www.slgr.gr/el/schedule/11/',\n",
       " 'https://www.slgr.gr/el/schedule/10/',\n",
       " 'https://www.slgr.gr/el/schedule/9/',\n",
       " 'https://www.slgr.gr/el/schedule/7/',\n",
       " 'https://www.slgr.gr/el/schedule/6/',\n",
       " 'https://www.slgr.gr/el/schedule/5/',\n",
       " 'https://www.slgr.gr/el/schedule/4/']"
      ]
     },
     "execution_count": 36,
     "metadata": {},
     "output_type": "execute_result"
    }
   ],
   "source": [
    "season_links"
   ]
  },
  {
   "cell_type": "code",
   "execution_count": 62,
   "id": "d75fcda7",
   "metadata": {},
   "outputs": [],
   "source": [
    "response = requests.get(season_links[0], headers= {'User-agent': 'Chrome'}, timeout= 15)"
   ]
  },
  {
   "cell_type": "code",
   "execution_count": 63,
   "id": "179d431a",
   "metadata": {},
   "outputs": [],
   "source": [
    "soup = BeautifulSoup(response.content, 'html.parser')"
   ]
  },
  {
   "cell_type": "code",
   "execution_count": 68,
   "id": "d65af6ea",
   "metadata": {},
   "outputs": [],
   "source": [
    "table = soup.find('div',{'class':'schedule-page'})"
   ]
  },
  {
   "cell_type": "code",
   "execution_count": 73,
   "id": "aa24ff22",
   "metadata": {},
   "outputs": [
    {
     "data": {
      "text/plain": [
       "'/el/schedule/20/103/'"
      ]
     },
     "execution_count": 73,
     "metadata": {},
     "output_type": "execute_result"
    }
   ],
   "source": [
    "table.find_all('ul',{'class':'sub-current'})[1].find_all('a')[0]['href']"
   ]
  },
  {
   "cell_type": "code",
   "execution_count": 74,
   "id": "342ec656",
   "metadata": {},
   "outputs": [
    {
     "data": {
      "text/plain": [
       "'https://www.slgr.gr'"
      ]
     },
     "execution_count": 74,
     "metadata": {},
     "output_type": "execute_result"
    }
   ],
   "source": [
    "sl_link"
   ]
  },
  {
   "cell_type": "markdown",
   "id": "8fd528c7",
   "metadata": {},
   "source": [
    "#### Get links for league games and not play offs/play outs"
   ]
  },
  {
   "cell_type": "code",
   "execution_count": 75,
   "id": "ca9e2a51",
   "metadata": {},
   "outputs": [],
   "source": [
    "super_league_seasons = []\n",
    "for link in season_links:\n",
    "    response = requests.get(link, headers= {'User-agent': 'Chrome'}, timeout= 15)\n",
    "    soup = BeautifulSoup(response.content, 'html.parser')\n",
    "    table = soup.find('div',{'class':'schedule-page'})\n",
    "    super_league_seasons.append(sl_link + table.find_all('ul',{'class':'sub-current'})[1].find_all('a')[0]['href'])"
   ]
  },
  {
   "cell_type": "code",
   "execution_count": 76,
   "id": "89d5558e",
   "metadata": {
    "scrolled": true
   },
   "outputs": [
    {
     "data": {
      "text/plain": [
       "['https://www.slgr.gr/el/schedule/20/103/',\n",
       " 'https://www.slgr.gr/el/schedule/19/97/',\n",
       " 'https://www.slgr.gr/el/schedule/18/88/',\n",
       " 'https://www.slgr.gr/el/schedule/17/79/',\n",
       " 'https://www.slgr.gr/el/schedule/16/70/',\n",
       " 'https://www.slgr.gr/el/schedule/15/61/',\n",
       " 'https://www.slgr.gr/el/schedule/14/52/',\n",
       " 'https://www.slgr.gr/el/schedule/13/42/',\n",
       " 'https://www.slgr.gr/el/schedule/12/31/',\n",
       " 'https://www.slgr.gr/el/schedule/11/21/',\n",
       " 'https://www.slgr.gr/el/schedule/10/16/',\n",
       " 'https://www.slgr.gr/el/schedule/9/11/',\n",
       " 'https://www.slgr.gr/el/schedule/7/1/',\n",
       " 'https://www.slgr.gr/el/schedule/6/27/',\n",
       " 'https://www.slgr.gr/el/schedule/5/29/',\n",
       " 'https://www.slgr.gr/el/schedule/4/26/']"
      ]
     },
     "execution_count": 76,
     "metadata": {},
     "output_type": "execute_result"
    }
   ],
   "source": [
    "super_league_seasons"
   ]
  },
  {
   "cell_type": "markdown",
   "id": "d8561413",
   "metadata": {},
   "source": [
    "#### Get everything from every page"
   ]
  },
  {
   "cell_type": "code",
   "execution_count": 84,
   "id": "15629089",
   "metadata": {},
   "outputs": [
    {
     "data": {
      "text/plain": [
       "'https://www.slgr.gr'"
      ]
     },
     "execution_count": 84,
     "metadata": {},
     "output_type": "execute_result"
    }
   ],
   "source": [
    "sl_link"
   ]
  },
  {
   "cell_type": "code",
   "execution_count": 88,
   "id": "accaa663",
   "metadata": {
    "scrolled": true
   },
   "outputs": [],
   "source": [
    "my_links = []\n",
    "for link in super_league_seasons:\n",
    "    response = requests.get(link, headers= {'User-agent': 'Chrome'}, timeout= 15)\n",
    "    soup = BeautifulSoup(response.content, 'html.parser')\n",
    "    pages = soup.find_all('li',{'class':'current col-md-3 col-sm-6 d-inline-block pointer'})[1].find_all('li')\n",
    "    links = soup.find_all('li',{'class':'current col-md-3 col-sm-6 d-inline-block pointer'})[1].find('ul')\n",
    "    for i in range(len(pages)):\n",
    "        my_links.append(sl_link + links.find_all('a')[i]['href'])"
   ]
  },
  {
   "cell_type": "code",
   "execution_count": 89,
   "id": "f3ad9298",
   "metadata": {},
   "outputs": [
    {
     "data": {
      "text/plain": [
       "['https://www.slgr.gr/el/schedule/20/103/212201/',\n",
       " 'https://www.slgr.gr/el/schedule/20/103/212202/',\n",
       " 'https://www.slgr.gr/el/schedule/20/103/212203/',\n",
       " 'https://www.slgr.gr/el/schedule/20/103/212204/',\n",
       " 'https://www.slgr.gr/el/schedule/20/103/212205/',\n",
       " 'https://www.slgr.gr/el/schedule/20/103/212206/',\n",
       " 'https://www.slgr.gr/el/schedule/20/103/212207/',\n",
       " 'https://www.slgr.gr/el/schedule/20/103/212208/',\n",
       " 'https://www.slgr.gr/el/schedule/20/103/212209/',\n",
       " 'https://www.slgr.gr/el/schedule/20/103/212210/',\n",
       " 'https://www.slgr.gr/el/schedule/20/103/212211/',\n",
       " 'https://www.slgr.gr/el/schedule/20/103/212212/',\n",
       " 'https://www.slgr.gr/el/schedule/20/103/212213/',\n",
       " 'https://www.slgr.gr/el/schedule/20/103/212214/',\n",
       " 'https://www.slgr.gr/el/schedule/20/103/212215/',\n",
       " 'https://www.slgr.gr/el/schedule/20/103/212216/',\n",
       " 'https://www.slgr.gr/el/schedule/20/103/212217/',\n",
       " 'https://www.slgr.gr/el/schedule/20/103/212218/',\n",
       " 'https://www.slgr.gr/el/schedule/20/103/212219/',\n",
       " 'https://www.slgr.gr/el/schedule/20/103/212220/',\n",
       " 'https://www.slgr.gr/el/schedule/20/103/212221/',\n",
       " 'https://www.slgr.gr/el/schedule/20/103/212222/',\n",
       " 'https://www.slgr.gr/el/schedule/20/103/212223/',\n",
       " 'https://www.slgr.gr/el/schedule/20/103/212224/',\n",
       " 'https://www.slgr.gr/el/schedule/20/103/212225/',\n",
       " 'https://www.slgr.gr/el/schedule/20/103/212226/',\n",
       " 'https://www.slgr.gr/el/schedule/19/97/202101/',\n",
       " 'https://www.slgr.gr/el/schedule/19/97/202102/',\n",
       " 'https://www.slgr.gr/el/schedule/19/97/202103/',\n",
       " 'https://www.slgr.gr/el/schedule/19/97/202104/',\n",
       " 'https://www.slgr.gr/el/schedule/19/97/202105/',\n",
       " 'https://www.slgr.gr/el/schedule/19/97/202106/',\n",
       " 'https://www.slgr.gr/el/schedule/19/97/202107/',\n",
       " 'https://www.slgr.gr/el/schedule/19/97/202108/',\n",
       " 'https://www.slgr.gr/el/schedule/19/97/202109/',\n",
       " 'https://www.slgr.gr/el/schedule/19/97/202110/',\n",
       " 'https://www.slgr.gr/el/schedule/19/97/202111/',\n",
       " 'https://www.slgr.gr/el/schedule/19/97/202112/',\n",
       " 'https://www.slgr.gr/el/schedule/19/97/202113/',\n",
       " 'https://www.slgr.gr/el/schedule/19/97/202114/',\n",
       " 'https://www.slgr.gr/el/schedule/19/97/202115/',\n",
       " 'https://www.slgr.gr/el/schedule/19/97/202116/',\n",
       " 'https://www.slgr.gr/el/schedule/19/97/202117/',\n",
       " 'https://www.slgr.gr/el/schedule/19/97/202118/',\n",
       " 'https://www.slgr.gr/el/schedule/19/97/202119/',\n",
       " 'https://www.slgr.gr/el/schedule/19/97/202120/',\n",
       " 'https://www.slgr.gr/el/schedule/19/97/202121/',\n",
       " 'https://www.slgr.gr/el/schedule/19/97/202122/',\n",
       " 'https://www.slgr.gr/el/schedule/19/97/202123/',\n",
       " 'https://www.slgr.gr/el/schedule/19/97/202124/',\n",
       " 'https://www.slgr.gr/el/schedule/19/97/202125/',\n",
       " 'https://www.slgr.gr/el/schedule/19/97/202126/',\n",
       " 'https://www.slgr.gr/el/schedule/18/88/192001/',\n",
       " 'https://www.slgr.gr/el/schedule/18/88/192002/',\n",
       " 'https://www.slgr.gr/el/schedule/18/88/192003/',\n",
       " 'https://www.slgr.gr/el/schedule/18/88/192004/',\n",
       " 'https://www.slgr.gr/el/schedule/18/88/192005/',\n",
       " 'https://www.slgr.gr/el/schedule/18/88/192006/',\n",
       " 'https://www.slgr.gr/el/schedule/18/88/192007/',\n",
       " 'https://www.slgr.gr/el/schedule/18/88/192008/',\n",
       " 'https://www.slgr.gr/el/schedule/18/88/192009/',\n",
       " 'https://www.slgr.gr/el/schedule/18/88/192010/',\n",
       " 'https://www.slgr.gr/el/schedule/18/88/192011/',\n",
       " 'https://www.slgr.gr/el/schedule/18/88/192012/',\n",
       " 'https://www.slgr.gr/el/schedule/18/88/192013/',\n",
       " 'https://www.slgr.gr/el/schedule/18/88/192014/',\n",
       " 'https://www.slgr.gr/el/schedule/18/88/192015/',\n",
       " 'https://www.slgr.gr/el/schedule/18/88/192016/',\n",
       " 'https://www.slgr.gr/el/schedule/18/88/192017/',\n",
       " 'https://www.slgr.gr/el/schedule/18/88/192018/',\n",
       " 'https://www.slgr.gr/el/schedule/18/88/192019/',\n",
       " 'https://www.slgr.gr/el/schedule/18/88/192020/',\n",
       " 'https://www.slgr.gr/el/schedule/18/88/192021/',\n",
       " 'https://www.slgr.gr/el/schedule/18/88/192022/',\n",
       " 'https://www.slgr.gr/el/schedule/18/88/192023/',\n",
       " 'https://www.slgr.gr/el/schedule/18/88/192024/',\n",
       " 'https://www.slgr.gr/el/schedule/18/88/192025/',\n",
       " 'https://www.slgr.gr/el/schedule/18/88/192026/',\n",
       " 'https://www.slgr.gr/el/schedule/17/79/181901/',\n",
       " 'https://www.slgr.gr/el/schedule/17/79/181902/',\n",
       " 'https://www.slgr.gr/el/schedule/17/79/181903/',\n",
       " 'https://www.slgr.gr/el/schedule/17/79/181904/',\n",
       " 'https://www.slgr.gr/el/schedule/17/79/181905/',\n",
       " 'https://www.slgr.gr/el/schedule/17/79/181906/',\n",
       " 'https://www.slgr.gr/el/schedule/17/79/181907/',\n",
       " 'https://www.slgr.gr/el/schedule/17/79/181908/',\n",
       " 'https://www.slgr.gr/el/schedule/17/79/181909/',\n",
       " 'https://www.slgr.gr/el/schedule/17/79/181910/',\n",
       " 'https://www.slgr.gr/el/schedule/17/79/181911/',\n",
       " 'https://www.slgr.gr/el/schedule/17/79/181912/',\n",
       " 'https://www.slgr.gr/el/schedule/17/79/181913/',\n",
       " 'https://www.slgr.gr/el/schedule/17/79/181914/',\n",
       " 'https://www.slgr.gr/el/schedule/17/79/181916/',\n",
       " 'https://www.slgr.gr/el/schedule/17/79/181917/',\n",
       " 'https://www.slgr.gr/el/schedule/17/79/181918/',\n",
       " 'https://www.slgr.gr/el/schedule/17/79/181915/',\n",
       " 'https://www.slgr.gr/el/schedule/17/79/181919/',\n",
       " 'https://www.slgr.gr/el/schedule/17/79/181920/',\n",
       " 'https://www.slgr.gr/el/schedule/17/79/181921/',\n",
       " 'https://www.slgr.gr/el/schedule/17/79/181922/',\n",
       " 'https://www.slgr.gr/el/schedule/17/79/181923/',\n",
       " 'https://www.slgr.gr/el/schedule/17/79/181924/',\n",
       " 'https://www.slgr.gr/el/schedule/17/79/181925/',\n",
       " 'https://www.slgr.gr/el/schedule/17/79/181926/',\n",
       " 'https://www.slgr.gr/el/schedule/17/79/181927/',\n",
       " 'https://www.slgr.gr/el/schedule/17/79/181928/',\n",
       " 'https://www.slgr.gr/el/schedule/17/79/181929/',\n",
       " 'https://www.slgr.gr/el/schedule/17/79/181930/',\n",
       " 'https://www.slgr.gr/el/schedule/16/70/171801/',\n",
       " 'https://www.slgr.gr/el/schedule/16/70/171802/',\n",
       " 'https://www.slgr.gr/el/schedule/16/70/171803/',\n",
       " 'https://www.slgr.gr/el/schedule/16/70/171804/',\n",
       " 'https://www.slgr.gr/el/schedule/16/70/171805/',\n",
       " 'https://www.slgr.gr/el/schedule/16/70/171806/',\n",
       " 'https://www.slgr.gr/el/schedule/16/70/171807/',\n",
       " 'https://www.slgr.gr/el/schedule/16/70/171808/',\n",
       " 'https://www.slgr.gr/el/schedule/16/70/171809/',\n",
       " 'https://www.slgr.gr/el/schedule/16/70/171810/',\n",
       " 'https://www.slgr.gr/el/schedule/16/70/171811/',\n",
       " 'https://www.slgr.gr/el/schedule/16/70/171812/',\n",
       " 'https://www.slgr.gr/el/schedule/16/70/171813/',\n",
       " 'https://www.slgr.gr/el/schedule/16/70/171814/',\n",
       " 'https://www.slgr.gr/el/schedule/16/70/171815/',\n",
       " 'https://www.slgr.gr/el/schedule/16/70/171816/',\n",
       " 'https://www.slgr.gr/el/schedule/16/70/171817/',\n",
       " 'https://www.slgr.gr/el/schedule/16/70/171818/',\n",
       " 'https://www.slgr.gr/el/schedule/16/70/171819/',\n",
       " 'https://www.slgr.gr/el/schedule/16/70/171820/',\n",
       " 'https://www.slgr.gr/el/schedule/16/70/171821/',\n",
       " 'https://www.slgr.gr/el/schedule/16/70/171822/',\n",
       " 'https://www.slgr.gr/el/schedule/16/70/171823/',\n",
       " 'https://www.slgr.gr/el/schedule/16/70/171824/',\n",
       " 'https://www.slgr.gr/el/schedule/16/70/171825/',\n",
       " 'https://www.slgr.gr/el/schedule/16/70/171826/',\n",
       " 'https://www.slgr.gr/el/schedule/16/70/171827/',\n",
       " 'https://www.slgr.gr/el/schedule/16/70/171828/',\n",
       " 'https://www.slgr.gr/el/schedule/16/70/171829/',\n",
       " 'https://www.slgr.gr/el/schedule/16/70/171830/',\n",
       " 'https://www.slgr.gr/el/schedule/15/61/161701/',\n",
       " 'https://www.slgr.gr/el/schedule/15/61/161702/',\n",
       " 'https://www.slgr.gr/el/schedule/15/61/161703/',\n",
       " 'https://www.slgr.gr/el/schedule/15/61/161704/',\n",
       " 'https://www.slgr.gr/el/schedule/15/61/161705/',\n",
       " 'https://www.slgr.gr/el/schedule/15/61/161706/',\n",
       " 'https://www.slgr.gr/el/schedule/15/61/161707/',\n",
       " 'https://www.slgr.gr/el/schedule/15/61/161708/',\n",
       " 'https://www.slgr.gr/el/schedule/15/61/161709/',\n",
       " 'https://www.slgr.gr/el/schedule/15/61/161710/',\n",
       " 'https://www.slgr.gr/el/schedule/15/61/161711/',\n",
       " 'https://www.slgr.gr/el/schedule/15/61/161712/',\n",
       " 'https://www.slgr.gr/el/schedule/15/61/161713/',\n",
       " 'https://www.slgr.gr/el/schedule/15/61/161714/',\n",
       " 'https://www.slgr.gr/el/schedule/15/61/161715/',\n",
       " 'https://www.slgr.gr/el/schedule/15/61/161716/',\n",
       " 'https://www.slgr.gr/el/schedule/15/61/161717/',\n",
       " 'https://www.slgr.gr/el/schedule/15/61/161718/',\n",
       " 'https://www.slgr.gr/el/schedule/15/61/161719/',\n",
       " 'https://www.slgr.gr/el/schedule/15/61/161720/',\n",
       " 'https://www.slgr.gr/el/schedule/15/61/161721/',\n",
       " 'https://www.slgr.gr/el/schedule/15/61/161722/',\n",
       " 'https://www.slgr.gr/el/schedule/15/61/161723/',\n",
       " 'https://www.slgr.gr/el/schedule/15/61/161724/',\n",
       " 'https://www.slgr.gr/el/schedule/15/61/161725/',\n",
       " 'https://www.slgr.gr/el/schedule/15/61/161726/',\n",
       " 'https://www.slgr.gr/el/schedule/15/61/161727/',\n",
       " 'https://www.slgr.gr/el/schedule/15/61/161728/',\n",
       " 'https://www.slgr.gr/el/schedule/15/61/161729/',\n",
       " 'https://www.slgr.gr/el/schedule/15/61/161730/',\n",
       " 'https://www.slgr.gr/el/schedule/14/52/151601/',\n",
       " 'https://www.slgr.gr/el/schedule/14/52/151602/',\n",
       " 'https://www.slgr.gr/el/schedule/14/52/151603/',\n",
       " 'https://www.slgr.gr/el/schedule/14/52/151604/',\n",
       " 'https://www.slgr.gr/el/schedule/14/52/151605/',\n",
       " 'https://www.slgr.gr/el/schedule/14/52/151606/',\n",
       " 'https://www.slgr.gr/el/schedule/14/52/151607/',\n",
       " 'https://www.slgr.gr/el/schedule/14/52/151608/',\n",
       " 'https://www.slgr.gr/el/schedule/14/52/151609/',\n",
       " 'https://www.slgr.gr/el/schedule/14/52/151610/',\n",
       " 'https://www.slgr.gr/el/schedule/14/52/151611/',\n",
       " 'https://www.slgr.gr/el/schedule/14/52/151612/',\n",
       " 'https://www.slgr.gr/el/schedule/14/52/151613/',\n",
       " 'https://www.slgr.gr/el/schedule/14/52/151614/',\n",
       " 'https://www.slgr.gr/el/schedule/14/52/151615/',\n",
       " 'https://www.slgr.gr/el/schedule/14/52/151616/',\n",
       " 'https://www.slgr.gr/el/schedule/14/52/151617/',\n",
       " 'https://www.slgr.gr/el/schedule/14/52/151618/',\n",
       " 'https://www.slgr.gr/el/schedule/14/52/151619/',\n",
       " 'https://www.slgr.gr/el/schedule/14/52/151620/',\n",
       " 'https://www.slgr.gr/el/schedule/14/52/151621/',\n",
       " 'https://www.slgr.gr/el/schedule/14/52/151622/',\n",
       " 'https://www.slgr.gr/el/schedule/14/52/151623/',\n",
       " 'https://www.slgr.gr/el/schedule/14/52/151624/',\n",
       " 'https://www.slgr.gr/el/schedule/14/52/151625/',\n",
       " 'https://www.slgr.gr/el/schedule/14/52/151626/',\n",
       " 'https://www.slgr.gr/el/schedule/14/52/151627/',\n",
       " 'https://www.slgr.gr/el/schedule/14/52/151628/',\n",
       " 'https://www.slgr.gr/el/schedule/14/52/151629/',\n",
       " 'https://www.slgr.gr/el/schedule/14/52/151630/',\n",
       " 'https://www.slgr.gr/el/schedule/13/42/141501/',\n",
       " 'https://www.slgr.gr/el/schedule/13/42/141502/',\n",
       " 'https://www.slgr.gr/el/schedule/13/42/141503/',\n",
       " 'https://www.slgr.gr/el/schedule/13/42/141504/',\n",
       " 'https://www.slgr.gr/el/schedule/13/42/141505/',\n",
       " 'https://www.slgr.gr/el/schedule/13/42/141506/',\n",
       " 'https://www.slgr.gr/el/schedule/13/42/141507/',\n",
       " 'https://www.slgr.gr/el/schedule/13/42/141508/',\n",
       " 'https://www.slgr.gr/el/schedule/13/42/141509/',\n",
       " 'https://www.slgr.gr/el/schedule/13/42/141510/',\n",
       " 'https://www.slgr.gr/el/schedule/13/42/141511/',\n",
       " 'https://www.slgr.gr/el/schedule/13/42/141512/',\n",
       " 'https://www.slgr.gr/el/schedule/13/42/141513/',\n",
       " 'https://www.slgr.gr/el/schedule/13/42/141514/',\n",
       " 'https://www.slgr.gr/el/schedule/13/42/141515/',\n",
       " 'https://www.slgr.gr/el/schedule/13/42/141516/',\n",
       " 'https://www.slgr.gr/el/schedule/13/42/141517/',\n",
       " 'https://www.slgr.gr/el/schedule/13/42/141518/',\n",
       " 'https://www.slgr.gr/el/schedule/13/42/141519/',\n",
       " 'https://www.slgr.gr/el/schedule/13/42/141520/',\n",
       " 'https://www.slgr.gr/el/schedule/13/42/141521/',\n",
       " 'https://www.slgr.gr/el/schedule/13/42/141522/',\n",
       " 'https://www.slgr.gr/el/schedule/13/42/141523/',\n",
       " 'https://www.slgr.gr/el/schedule/13/42/141524/',\n",
       " 'https://www.slgr.gr/el/schedule/13/42/141525/',\n",
       " 'https://www.slgr.gr/el/schedule/13/42/141526/',\n",
       " 'https://www.slgr.gr/el/schedule/13/42/141527/',\n",
       " 'https://www.slgr.gr/el/schedule/13/42/141528/',\n",
       " 'https://www.slgr.gr/el/schedule/13/42/141529/',\n",
       " 'https://www.slgr.gr/el/schedule/13/42/141530/',\n",
       " 'https://www.slgr.gr/el/schedule/13/42/141531/',\n",
       " 'https://www.slgr.gr/el/schedule/13/42/141532/',\n",
       " 'https://www.slgr.gr/el/schedule/13/42/141533/',\n",
       " 'https://www.slgr.gr/el/schedule/13/42/141534/',\n",
       " 'https://www.slgr.gr/el/schedule/12/31/131401/',\n",
       " 'https://www.slgr.gr/el/schedule/12/31/131402/',\n",
       " 'https://www.slgr.gr/el/schedule/12/31/131403/',\n",
       " 'https://www.slgr.gr/el/schedule/12/31/131404/',\n",
       " 'https://www.slgr.gr/el/schedule/12/31/131405/',\n",
       " 'https://www.slgr.gr/el/schedule/12/31/131406/',\n",
       " 'https://www.slgr.gr/el/schedule/12/31/131407/',\n",
       " 'https://www.slgr.gr/el/schedule/12/31/131408/',\n",
       " 'https://www.slgr.gr/el/schedule/12/31/131409/',\n",
       " 'https://www.slgr.gr/el/schedule/12/31/131410/',\n",
       " 'https://www.slgr.gr/el/schedule/12/31/131411/',\n",
       " 'https://www.slgr.gr/el/schedule/12/31/131412/',\n",
       " 'https://www.slgr.gr/el/schedule/12/31/131413/',\n",
       " 'https://www.slgr.gr/el/schedule/12/31/131414/',\n",
       " 'https://www.slgr.gr/el/schedule/12/31/131415/',\n",
       " 'https://www.slgr.gr/el/schedule/12/31/131416/',\n",
       " 'https://www.slgr.gr/el/schedule/12/31/131417/',\n",
       " 'https://www.slgr.gr/el/schedule/12/31/131418/',\n",
       " 'https://www.slgr.gr/el/schedule/12/31/131419/',\n",
       " 'https://www.slgr.gr/el/schedule/12/31/131420/',\n",
       " 'https://www.slgr.gr/el/schedule/12/31/131421/',\n",
       " 'https://www.slgr.gr/el/schedule/12/31/131422/',\n",
       " 'https://www.slgr.gr/el/schedule/12/31/131423/',\n",
       " 'https://www.slgr.gr/el/schedule/12/31/131424/',\n",
       " 'https://www.slgr.gr/el/schedule/12/31/131425/',\n",
       " 'https://www.slgr.gr/el/schedule/12/31/131426/',\n",
       " 'https://www.slgr.gr/el/schedule/12/31/131427/',\n",
       " 'https://www.slgr.gr/el/schedule/12/31/131428/',\n",
       " 'https://www.slgr.gr/el/schedule/12/31/131429/',\n",
       " 'https://www.slgr.gr/el/schedule/12/31/131430/',\n",
       " 'https://www.slgr.gr/el/schedule/12/31/131431/',\n",
       " 'https://www.slgr.gr/el/schedule/12/31/131432/',\n",
       " 'https://www.slgr.gr/el/schedule/12/31/131433/',\n",
       " 'https://www.slgr.gr/el/schedule/12/31/131434/',\n",
       " 'https://www.slgr.gr/el/schedule/11/21/121301/',\n",
       " 'https://www.slgr.gr/el/schedule/11/21/121302/',\n",
       " 'https://www.slgr.gr/el/schedule/11/21/121303/',\n",
       " 'https://www.slgr.gr/el/schedule/11/21/121304/',\n",
       " 'https://www.slgr.gr/el/schedule/11/21/121305/',\n",
       " 'https://www.slgr.gr/el/schedule/11/21/121306/',\n",
       " 'https://www.slgr.gr/el/schedule/11/21/121307/',\n",
       " 'https://www.slgr.gr/el/schedule/11/21/121308/',\n",
       " 'https://www.slgr.gr/el/schedule/11/21/121309/',\n",
       " 'https://www.slgr.gr/el/schedule/11/21/121310/',\n",
       " 'https://www.slgr.gr/el/schedule/11/21/121311/',\n",
       " 'https://www.slgr.gr/el/schedule/11/21/121312/',\n",
       " 'https://www.slgr.gr/el/schedule/11/21/121313/',\n",
       " 'https://www.slgr.gr/el/schedule/11/21/121314/',\n",
       " 'https://www.slgr.gr/el/schedule/11/21/121315/',\n",
       " 'https://www.slgr.gr/el/schedule/11/21/121316/',\n",
       " 'https://www.slgr.gr/el/schedule/11/21/121317/',\n",
       " 'https://www.slgr.gr/el/schedule/11/21/121318/',\n",
       " 'https://www.slgr.gr/el/schedule/11/21/121319/',\n",
       " 'https://www.slgr.gr/el/schedule/11/21/121320/',\n",
       " 'https://www.slgr.gr/el/schedule/11/21/121321/',\n",
       " 'https://www.slgr.gr/el/schedule/11/21/121322/',\n",
       " 'https://www.slgr.gr/el/schedule/11/21/121323/',\n",
       " 'https://www.slgr.gr/el/schedule/11/21/121324/',\n",
       " 'https://www.slgr.gr/el/schedule/11/21/121325/',\n",
       " 'https://www.slgr.gr/el/schedule/11/21/121326/',\n",
       " 'https://www.slgr.gr/el/schedule/11/21/121327/',\n",
       " 'https://www.slgr.gr/el/schedule/11/21/121328/',\n",
       " 'https://www.slgr.gr/el/schedule/11/21/121329/',\n",
       " 'https://www.slgr.gr/el/schedule/11/21/121330/',\n",
       " 'https://www.slgr.gr/el/schedule/11/21/121331/',\n",
       " 'https://www.slgr.gr/el/schedule/10/16/111201/',\n",
       " 'https://www.slgr.gr/el/schedule/10/16/111202/',\n",
       " 'https://www.slgr.gr/el/schedule/10/16/111203/',\n",
       " 'https://www.slgr.gr/el/schedule/10/16/111204/',\n",
       " 'https://www.slgr.gr/el/schedule/10/16/111205/',\n",
       " 'https://www.slgr.gr/el/schedule/10/16/111206/',\n",
       " 'https://www.slgr.gr/el/schedule/10/16/111207/',\n",
       " 'https://www.slgr.gr/el/schedule/10/16/111208/',\n",
       " 'https://www.slgr.gr/el/schedule/10/16/111209/',\n",
       " 'https://www.slgr.gr/el/schedule/10/16/111210/',\n",
       " 'https://www.slgr.gr/el/schedule/10/16/111211/',\n",
       " 'https://www.slgr.gr/el/schedule/10/16/111212/',\n",
       " 'https://www.slgr.gr/el/schedule/10/16/111213/',\n",
       " 'https://www.slgr.gr/el/schedule/10/16/111214/',\n",
       " 'https://www.slgr.gr/el/schedule/10/16/111215/',\n",
       " 'https://www.slgr.gr/el/schedule/10/16/111216/',\n",
       " 'https://www.slgr.gr/el/schedule/10/16/111217/',\n",
       " 'https://www.slgr.gr/el/schedule/10/16/111218/',\n",
       " 'https://www.slgr.gr/el/schedule/10/16/111219/',\n",
       " 'https://www.slgr.gr/el/schedule/10/16/111220/',\n",
       " 'https://www.slgr.gr/el/schedule/10/16/111221/',\n",
       " 'https://www.slgr.gr/el/schedule/10/16/111222/',\n",
       " 'https://www.slgr.gr/el/schedule/10/16/111223/',\n",
       " 'https://www.slgr.gr/el/schedule/10/16/111224/',\n",
       " 'https://www.slgr.gr/el/schedule/10/16/111225/',\n",
       " 'https://www.slgr.gr/el/schedule/10/16/111226/',\n",
       " 'https://www.slgr.gr/el/schedule/10/16/111227/',\n",
       " 'https://www.slgr.gr/el/schedule/10/16/111228/',\n",
       " 'https://www.slgr.gr/el/schedule/10/16/111229/',\n",
       " 'https://www.slgr.gr/el/schedule/10/16/111230/',\n",
       " 'https://www.slgr.gr/el/schedule/9/11/101101/',\n",
       " 'https://www.slgr.gr/el/schedule/9/11/101102/',\n",
       " 'https://www.slgr.gr/el/schedule/9/11/101103/',\n",
       " 'https://www.slgr.gr/el/schedule/9/11/101104/',\n",
       " 'https://www.slgr.gr/el/schedule/9/11/101105/',\n",
       " 'https://www.slgr.gr/el/schedule/9/11/101106/',\n",
       " 'https://www.slgr.gr/el/schedule/9/11/101107/',\n",
       " 'https://www.slgr.gr/el/schedule/9/11/101108/',\n",
       " 'https://www.slgr.gr/el/schedule/9/11/101109/',\n",
       " 'https://www.slgr.gr/el/schedule/9/11/101110/',\n",
       " 'https://www.slgr.gr/el/schedule/9/11/101111/',\n",
       " 'https://www.slgr.gr/el/schedule/9/11/101112/',\n",
       " 'https://www.slgr.gr/el/schedule/9/11/101113/',\n",
       " 'https://www.slgr.gr/el/schedule/9/11/101114/',\n",
       " 'https://www.slgr.gr/el/schedule/9/11/101115/',\n",
       " 'https://www.slgr.gr/el/schedule/9/11/101116/',\n",
       " 'https://www.slgr.gr/el/schedule/9/11/101117/',\n",
       " 'https://www.slgr.gr/el/schedule/9/11/101118/',\n",
       " 'https://www.slgr.gr/el/schedule/9/11/101119/',\n",
       " 'https://www.slgr.gr/el/schedule/9/11/101120/',\n",
       " 'https://www.slgr.gr/el/schedule/9/11/101121/',\n",
       " 'https://www.slgr.gr/el/schedule/9/11/101122/',\n",
       " 'https://www.slgr.gr/el/schedule/9/11/101123/',\n",
       " 'https://www.slgr.gr/el/schedule/9/11/101124/',\n",
       " 'https://www.slgr.gr/el/schedule/9/11/101125/',\n",
       " 'https://www.slgr.gr/el/schedule/9/11/101126/',\n",
       " 'https://www.slgr.gr/el/schedule/9/11/101127/',\n",
       " 'https://www.slgr.gr/el/schedule/9/11/101128/',\n",
       " 'https://www.slgr.gr/el/schedule/9/11/101129/',\n",
       " 'https://www.slgr.gr/el/schedule/9/11/101130/',\n",
       " 'https://www.slgr.gr/el/schedule/7/1/1/',\n",
       " 'https://www.slgr.gr/el/schedule/7/1/2/',\n",
       " 'https://www.slgr.gr/el/schedule/7/1/3/',\n",
       " 'https://www.slgr.gr/el/schedule/7/1/4/',\n",
       " 'https://www.slgr.gr/el/schedule/7/1/5/',\n",
       " 'https://www.slgr.gr/el/schedule/7/1/6/',\n",
       " 'https://www.slgr.gr/el/schedule/7/1/7/',\n",
       " 'https://www.slgr.gr/el/schedule/7/1/8/',\n",
       " 'https://www.slgr.gr/el/schedule/7/1/9/',\n",
       " 'https://www.slgr.gr/el/schedule/7/1/10/',\n",
       " 'https://www.slgr.gr/el/schedule/7/1/11/',\n",
       " 'https://www.slgr.gr/el/schedule/7/1/12/',\n",
       " 'https://www.slgr.gr/el/schedule/7/1/13/',\n",
       " 'https://www.slgr.gr/el/schedule/7/1/14/',\n",
       " 'https://www.slgr.gr/el/schedule/7/1/15/',\n",
       " 'https://www.slgr.gr/el/schedule/7/1/16/',\n",
       " 'https://www.slgr.gr/el/schedule/7/1/17/',\n",
       " 'https://www.slgr.gr/el/schedule/7/1/18/',\n",
       " 'https://www.slgr.gr/el/schedule/7/1/19/',\n",
       " 'https://www.slgr.gr/el/schedule/7/1/20/',\n",
       " 'https://www.slgr.gr/el/schedule/7/1/21/',\n",
       " 'https://www.slgr.gr/el/schedule/7/1/22/',\n",
       " 'https://www.slgr.gr/el/schedule/7/1/23/',\n",
       " 'https://www.slgr.gr/el/schedule/7/1/24/',\n",
       " 'https://www.slgr.gr/el/schedule/7/1/25/',\n",
       " 'https://www.slgr.gr/el/schedule/7/1/26/',\n",
       " 'https://www.slgr.gr/el/schedule/7/1/27/',\n",
       " 'https://www.slgr.gr/el/schedule/7/1/28/',\n",
       " 'https://www.slgr.gr/el/schedule/7/1/29/',\n",
       " 'https://www.slgr.gr/el/schedule/7/1/30/',\n",
       " 'https://www.slgr.gr/el/schedule/6/27/80901/',\n",
       " 'https://www.slgr.gr/el/schedule/6/27/80902/',\n",
       " 'https://www.slgr.gr/el/schedule/6/27/80903/',\n",
       " 'https://www.slgr.gr/el/schedule/6/27/80904/',\n",
       " 'https://www.slgr.gr/el/schedule/6/27/80905/',\n",
       " 'https://www.slgr.gr/el/schedule/6/27/80906/',\n",
       " 'https://www.slgr.gr/el/schedule/6/27/80907/',\n",
       " 'https://www.slgr.gr/el/schedule/6/27/80908/',\n",
       " 'https://www.slgr.gr/el/schedule/6/27/80909/',\n",
       " 'https://www.slgr.gr/el/schedule/6/27/80910/',\n",
       " 'https://www.slgr.gr/el/schedule/6/27/80911/',\n",
       " 'https://www.slgr.gr/el/schedule/6/27/80912/',\n",
       " 'https://www.slgr.gr/el/schedule/6/27/80913/',\n",
       " 'https://www.slgr.gr/el/schedule/6/27/80914/',\n",
       " 'https://www.slgr.gr/el/schedule/6/27/80915/',\n",
       " 'https://www.slgr.gr/el/schedule/6/27/80916/',\n",
       " 'https://www.slgr.gr/el/schedule/6/27/80917/',\n",
       " 'https://www.slgr.gr/el/schedule/6/27/80918/',\n",
       " 'https://www.slgr.gr/el/schedule/6/27/80919/',\n",
       " 'https://www.slgr.gr/el/schedule/6/27/80920/',\n",
       " 'https://www.slgr.gr/el/schedule/6/27/80921/',\n",
       " 'https://www.slgr.gr/el/schedule/6/27/80922/',\n",
       " 'https://www.slgr.gr/el/schedule/6/27/80923/',\n",
       " 'https://www.slgr.gr/el/schedule/6/27/80924/',\n",
       " 'https://www.slgr.gr/el/schedule/6/27/80925/',\n",
       " 'https://www.slgr.gr/el/schedule/6/27/80926/',\n",
       " 'https://www.slgr.gr/el/schedule/6/27/80927/',\n",
       " 'https://www.slgr.gr/el/schedule/6/27/80928/',\n",
       " 'https://www.slgr.gr/el/schedule/6/27/80929/',\n",
       " 'https://www.slgr.gr/el/schedule/6/27/80930/',\n",
       " 'https://www.slgr.gr/el/schedule/5/29/70801/',\n",
       " 'https://www.slgr.gr/el/schedule/5/29/70802/',\n",
       " 'https://www.slgr.gr/el/schedule/5/29/70803/',\n",
       " 'https://www.slgr.gr/el/schedule/5/29/70804/',\n",
       " 'https://www.slgr.gr/el/schedule/5/29/70805/',\n",
       " 'https://www.slgr.gr/el/schedule/5/29/70806/',\n",
       " 'https://www.slgr.gr/el/schedule/5/29/70807/',\n",
       " 'https://www.slgr.gr/el/schedule/5/29/70808/',\n",
       " 'https://www.slgr.gr/el/schedule/5/29/70809/',\n",
       " 'https://www.slgr.gr/el/schedule/5/29/70810/',\n",
       " 'https://www.slgr.gr/el/schedule/5/29/70811/',\n",
       " 'https://www.slgr.gr/el/schedule/5/29/70812/',\n",
       " 'https://www.slgr.gr/el/schedule/5/29/70813/',\n",
       " 'https://www.slgr.gr/el/schedule/5/29/70814/',\n",
       " 'https://www.slgr.gr/el/schedule/5/29/70815/',\n",
       " 'https://www.slgr.gr/el/schedule/5/29/70816/',\n",
       " 'https://www.slgr.gr/el/schedule/5/29/70817/',\n",
       " 'https://www.slgr.gr/el/schedule/5/29/70818/',\n",
       " 'https://www.slgr.gr/el/schedule/5/29/70819/',\n",
       " 'https://www.slgr.gr/el/schedule/5/29/70820/',\n",
       " 'https://www.slgr.gr/el/schedule/5/29/70821/',\n",
       " 'https://www.slgr.gr/el/schedule/5/29/70822/',\n",
       " 'https://www.slgr.gr/el/schedule/5/29/70823/',\n",
       " 'https://www.slgr.gr/el/schedule/5/29/70824/',\n",
       " 'https://www.slgr.gr/el/schedule/5/29/70825/',\n",
       " 'https://www.slgr.gr/el/schedule/5/29/70826/',\n",
       " 'https://www.slgr.gr/el/schedule/5/29/70827/',\n",
       " 'https://www.slgr.gr/el/schedule/5/29/70828/',\n",
       " 'https://www.slgr.gr/el/schedule/5/29/70829/',\n",
       " 'https://www.slgr.gr/el/schedule/5/29/70830/',\n",
       " 'https://www.slgr.gr/el/schedule/4/26/60701/',\n",
       " 'https://www.slgr.gr/el/schedule/4/26/60702/',\n",
       " 'https://www.slgr.gr/el/schedule/4/26/60703/',\n",
       " 'https://www.slgr.gr/el/schedule/4/26/60704/',\n",
       " 'https://www.slgr.gr/el/schedule/4/26/60705/',\n",
       " 'https://www.slgr.gr/el/schedule/4/26/60706/',\n",
       " 'https://www.slgr.gr/el/schedule/4/26/60707/',\n",
       " 'https://www.slgr.gr/el/schedule/4/26/60708/',\n",
       " 'https://www.slgr.gr/el/schedule/4/26/60709/',\n",
       " 'https://www.slgr.gr/el/schedule/4/26/60710/',\n",
       " 'https://www.slgr.gr/el/schedule/4/26/60711/',\n",
       " 'https://www.slgr.gr/el/schedule/4/26/60712/',\n",
       " 'https://www.slgr.gr/el/schedule/4/26/60713/',\n",
       " 'https://www.slgr.gr/el/schedule/4/26/60714/',\n",
       " 'https://www.slgr.gr/el/schedule/4/26/60715/',\n",
       " 'https://www.slgr.gr/el/schedule/4/26/60716/',\n",
       " 'https://www.slgr.gr/el/schedule/4/26/60717/',\n",
       " 'https://www.slgr.gr/el/schedule/4/26/60718/',\n",
       " 'https://www.slgr.gr/el/schedule/4/26/60719/',\n",
       " 'https://www.slgr.gr/el/schedule/4/26/60720/',\n",
       " 'https://www.slgr.gr/el/schedule/4/26/60721/',\n",
       " 'https://www.slgr.gr/el/schedule/4/26/60722/',\n",
       " 'https://www.slgr.gr/el/schedule/4/26/60723/',\n",
       " 'https://www.slgr.gr/el/schedule/4/26/60724/',\n",
       " 'https://www.slgr.gr/el/schedule/4/26/60725/',\n",
       " 'https://www.slgr.gr/el/schedule/4/26/60726/',\n",
       " 'https://www.slgr.gr/el/schedule/4/26/60727/',\n",
       " 'https://www.slgr.gr/el/schedule/4/26/60728/',\n",
       " 'https://www.slgr.gr/el/schedule/4/26/60729/',\n",
       " 'https://www.slgr.gr/el/schedule/4/26/60730/']"
      ]
     },
     "execution_count": 89,
     "metadata": {},
     "output_type": "execute_result"
    }
   ],
   "source": [
    "my_links"
   ]
  },
  {
   "cell_type": "markdown",
   "id": "335cd6d8",
   "metadata": {},
   "source": [
    "### Get info from first page"
   ]
  },
  {
   "cell_type": "code",
   "execution_count": 90,
   "id": "57442c39",
   "metadata": {},
   "outputs": [],
   "source": [
    "response = requests.get(my_links[0], headers= {'User-agent': 'Chrome'}, timeout= 15)"
   ]
  },
  {
   "cell_type": "code",
   "execution_count": 91,
   "id": "2d334461",
   "metadata": {},
   "outputs": [],
   "source": [
    "soup = BeautifulSoup(response.content, 'html.parser')"
   ]
  },
  {
   "cell_type": "markdown",
   "id": "6d2fbd2f",
   "metadata": {},
   "source": [
    "#### Get tables depending on the day of the game"
   ]
  },
  {
   "cell_type": "code",
   "execution_count": 92,
   "id": "c4f103eb",
   "metadata": {},
   "outputs": [],
   "source": [
    "info = soup.find_all('div',{'class':'table-responsive table-hover small schedule-table schedule-mobile'})"
   ]
  },
  {
   "cell_type": "code",
   "execution_count": 93,
   "id": "731d6e13",
   "metadata": {},
   "outputs": [
    {
     "data": {
      "text/plain": [
       "4"
      ]
     },
     "execution_count": 93,
     "metadata": {},
     "output_type": "execute_result"
    }
   ],
   "source": [
    "len(info)"
   ]
  },
  {
   "cell_type": "code",
   "execution_count": 94,
   "id": "18d41ac8",
   "metadata": {},
   "outputs": [
    {
     "data": {
      "text/plain": [
       "'/el/game/2122006/'"
      ]
     },
     "execution_count": 94,
     "metadata": {},
     "output_type": "execute_result"
    }
   ],
   "source": [
    "info[0].find_all('div',{'class':'item'})[0].find_all('a')[-1]['href'] # link for the first mach"
   ]
  },
  {
   "cell_type": "code",
   "execution_count": 95,
   "id": "1195b85a",
   "metadata": {},
   "outputs": [
    {
     "data": {
      "text/plain": [
       "2"
      ]
     },
     "execution_count": 95,
     "metadata": {},
     "output_type": "execute_result"
    }
   ],
   "source": [
    "len(info[0].find_all('div',{'class':'item'})) # How many games we had that day"
   ]
  },
  {
   "cell_type": "code",
   "execution_count": 96,
   "id": "420fa3a6",
   "metadata": {
    "collapsed": true
   },
   "outputs": [
    {
     "data": {
      "text/plain": [
       "<div class=\"item\">\n",
       "<div class=\"d-inline-block text-left ellipsis team-name\">\n",
       "<a href=\"el/team/788/\"><span class=\"default-name\">ΠΑΝΑΙΤΩΛΙΚΟΣ</span>\n",
       "<span class=\"small-name\">ΠΑΝ</span></a>\n",
       "</div>\n",
       "<div class=\"d-inline-block middle-td\">\n",
       "<a href=\"el/team/788/\"><img class=\"img-responsive\" src=\"/img/uploads/big/153451533633.png\"/></a>\n",
       "<div class=\"d-inline-block text-center\">\n",
       "<span class=\"score has-margin\">0</span><span class=\"score\">0</span>\n",
       "</div>\n",
       "<a href=\"el/team/780/\"><img class=\"img-responsive\" src=\"/img/uploads/big/159534831714.png\"/></a>\n",
       "</div>\n",
       "<div class=\"d-inline-block text-left ellipsis team-name\">\n",
       "<a href=\"el/team/780/\"><span class=\"default-name\">ΑΣΤΕΡΑΣ ΤΡΙΠΟΛΗΣ</span>\n",
       "<span class=\"small-name\">ΑΣΤ</span></a>\n",
       "</div>\n",
       "<a class=\"court-link\" href=\"https://www.google.com/maps/search/?api=1&amp;query=38.63,21.4116\" target=\"_blank\">\n",
       "<div class=\"d-inline-block text-left court-name ellipsis\">\n",
       "<span>ΓΗΠΕΔΟ ΠΑΝΑΙΤΩΛΙΚΟΥ</span>\n",
       "</div>\n",
       "</a>\n",
       "<div class=\"d-inline-block text-center num-of-tickets\">\n",
       "                                        1278 CS3HD\n",
       "                                    </div>\n",
       "<a class=\"d-inline-block text-right arrow-details\" href=\"/el/game/2122006/\" style=\"display: inline-block !important;height: 30px;position: relative;top: 11px;\"></a>\n",
       "</div>"
      ]
     },
     "execution_count": 96,
     "metadata": {},
     "output_type": "execute_result"
    }
   ],
   "source": [
    "info[0].find_all('div',{'class':'item'})[0] # The first game"
   ]
  },
  {
   "cell_type": "code",
   "execution_count": 97,
   "id": "8e802476",
   "metadata": {
    "scrolled": true
   },
   "outputs": [
    {
     "data": {
      "text/plain": [
       "'/el/game/2122006/'"
      ]
     },
     "execution_count": 97,
     "metadata": {},
     "output_type": "execute_result"
    }
   ],
   "source": [
    "info[0].find_all('div',{'class':'item'})[0].find_all('a')[-1]['href']  # link for infos for that game"
   ]
  },
  {
   "cell_type": "markdown",
   "id": "65a01fa4",
   "metadata": {},
   "source": [
    "#### Links for game details for page one "
   ]
  },
  {
   "cell_type": "code",
   "execution_count": 100,
   "id": "d5b3c6c8",
   "metadata": {},
   "outputs": [],
   "source": [
    "my_games = []\n",
    "for i in info[0:-1]: # \n",
    "    games = i.find_all('div',{'class':'item'})\n",
    "    for i in range(len(games)):\n",
    "        my_games.append(sl_link + games[i].find_all('a')[-1]['href'])"
   ]
  },
  {
   "cell_type": "code",
   "execution_count": 101,
   "id": "ac86232d",
   "metadata": {},
   "outputs": [
    {
     "data": {
      "text/plain": [
       "['https://www.slgr.gr/el/game/2122006/',\n",
       " 'https://www.slgr.gr/el/game/2122005/',\n",
       " 'https://www.slgr.gr/el/game/2122003/',\n",
       " 'https://www.slgr.gr/el/game/2122007/',\n",
       " 'https://www.slgr.gr/el/game/2122001/',\n",
       " 'https://www.slgr.gr/el/game/2122004/',\n",
       " 'https://www.slgr.gr/el/game/2122002/']"
      ]
     },
     "execution_count": 101,
     "metadata": {},
     "output_type": "execute_result"
    }
   ],
   "source": [
    "my_games"
   ]
  },
  {
   "cell_type": "markdown",
   "id": "c17c2d4e",
   "metadata": {},
   "source": [
    "### Get all links (each season, each league game)"
   ]
  },
  {
   "cell_type": "code",
   "execution_count": 102,
   "id": "34a7bc73",
   "metadata": {},
   "outputs": [],
   "source": [
    "sl_games = []\n",
    "for link in my_links: # my_links -> links for each date\n",
    "    response = requests.get(link, headers= {'User-agent': 'Chrome'}, timeout= 15)\n",
    "    soup = BeautifulSoup(response.content, 'html.parser')\n",
    "    info = soup.find_all('div',{'class':'table-responsive table-hover small schedule-table schedule-mobile'})\n",
    "    # info -> get access to tables, depending on which day the games were played\n",
    "    for i in info[0:-1]: # the last element is about tickets, so we do not care about it\n",
    "        games = i.find_all('div',{'class':'item'})\n",
    "        for i in range(len(games)):\n",
    "            sl_games.append(sl_link + games[i].find_all('a')[-1]['href']) # get links for details of each game"
   ]
  },
  {
   "cell_type": "code",
   "execution_count": 103,
   "id": "76b702dc",
   "metadata": {},
   "outputs": [
    {
     "data": {
      "text/plain": [
       "['https://www.slgr.gr/el/game/2122006/',\n",
       " 'https://www.slgr.gr/el/game/2122005/',\n",
       " 'https://www.slgr.gr/el/game/2122003/',\n",
       " 'https://www.slgr.gr/el/game/2122007/',\n",
       " 'https://www.slgr.gr/el/game/2122001/',\n",
       " 'https://www.slgr.gr/el/game/2122004/',\n",
       " 'https://www.slgr.gr/el/game/2122002/',\n",
       " 'https://www.slgr.gr/el/game/2122012/',\n",
       " 'https://www.slgr.gr/el/game/2122008/',\n",
       " 'https://www.slgr.gr/el/game/2122009/',\n",
       " 'https://www.slgr.gr/el/game/2122011/',\n",
       " 'https://www.slgr.gr/el/game/2122013/',\n",
       " 'https://www.slgr.gr/el/game/2122010/',\n",
       " 'https://www.slgr.gr/el/game/2122014/',\n",
       " 'https://www.slgr.gr/el/game/2122020/',\n",
       " 'https://www.slgr.gr/el/game/2122019/',\n",
       " 'https://www.slgr.gr/el/game/2122021/',\n",
       " 'https://www.slgr.gr/el/game/2122015/',\n",
       " 'https://www.slgr.gr/el/game/2122016/',\n",
       " 'https://www.slgr.gr/el/game/2122018/',\n",
       " 'https://www.slgr.gr/el/game/2122017/',\n",
       " 'https://www.slgr.gr/el/game/2122024/',\n",
       " 'https://www.slgr.gr/el/game/2122026/',\n",
       " 'https://www.slgr.gr/el/game/2122028/',\n",
       " 'https://www.slgr.gr/el/game/2122027/',\n",
       " 'https://www.slgr.gr/el/game/2122022/',\n",
       " 'https://www.slgr.gr/el/game/2122023/',\n",
       " 'https://www.slgr.gr/el/game/2122025/',\n",
       " 'https://www.slgr.gr/el/game/2122031/',\n",
       " 'https://www.slgr.gr/el/game/2122029/',\n",
       " 'https://www.slgr.gr/el/game/2122030/',\n",
       " 'https://www.slgr.gr/el/game/2122035/',\n",
       " 'https://www.slgr.gr/el/game/2122034/',\n",
       " 'https://www.slgr.gr/el/game/2122032/',\n",
       " 'https://www.slgr.gr/el/game/2122033/',\n",
       " 'https://www.slgr.gr/el/game/2122038/',\n",
       " 'https://www.slgr.gr/el/game/2122039/',\n",
       " 'https://www.slgr.gr/el/game/2122041/',\n",
       " 'https://www.slgr.gr/el/game/2122040/',\n",
       " 'https://www.slgr.gr/el/game/2122036/',\n",
       " 'https://www.slgr.gr/el/game/2122037/',\n",
       " 'https://www.slgr.gr/el/game/2122042/',\n",
       " 'https://www.slgr.gr/el/game/2122046/',\n",
       " 'https://www.slgr.gr/el/game/2122043/',\n",
       " 'https://www.slgr.gr/el/game/2122045/',\n",
       " 'https://www.slgr.gr/el/game/2122044/',\n",
       " 'https://www.slgr.gr/el/game/2122047/',\n",
       " 'https://www.slgr.gr/el/game/2122049/',\n",
       " 'https://www.slgr.gr/el/game/2122048/',\n",
       " 'https://www.slgr.gr/el/game/2122055/',\n",
       " 'https://www.slgr.gr/el/game/2122054/',\n",
       " 'https://www.slgr.gr/el/game/2122056/',\n",
       " 'https://www.slgr.gr/el/game/2122053/',\n",
       " 'https://www.slgr.gr/el/game/2122050/',\n",
       " 'https://www.slgr.gr/el/game/2122051/',\n",
       " 'https://www.slgr.gr/el/game/2122052/',\n",
       " 'https://www.slgr.gr/el/game/2122062/',\n",
       " 'https://www.slgr.gr/el/game/2122057/',\n",
       " 'https://www.slgr.gr/el/game/2122058/',\n",
       " 'https://www.slgr.gr/el/game/2122059/',\n",
       " 'https://www.slgr.gr/el/game/2122060/',\n",
       " 'https://www.slgr.gr/el/game/2122061/',\n",
       " 'https://www.slgr.gr/el/game/2122063/',\n",
       " 'https://www.slgr.gr/el/game/2122067/',\n",
       " 'https://www.slgr.gr/el/game/2122065/',\n",
       " 'https://www.slgr.gr/el/game/2122068/',\n",
       " 'https://www.slgr.gr/el/game/2122069/',\n",
       " 'https://www.slgr.gr/el/game/2122064/',\n",
       " 'https://www.slgr.gr/el/game/2122066/',\n",
       " 'https://www.slgr.gr/el/game/2122070/',\n",
       " 'https://www.slgr.gr/el/game/2122073/',\n",
       " 'https://www.slgr.gr/el/game/2122072/',\n",
       " 'https://www.slgr.gr/el/game/2122071/',\n",
       " 'https://www.slgr.gr/el/game/2122075/',\n",
       " 'https://www.slgr.gr/el/game/2122074/',\n",
       " 'https://www.slgr.gr/el/game/2122077/',\n",
       " 'https://www.slgr.gr/el/game/2122076/',\n",
       " 'https://www.slgr.gr/el/game/2122080/',\n",
       " 'https://www.slgr.gr/el/game/2122081/',\n",
       " 'https://www.slgr.gr/el/game/2122083/',\n",
       " 'https://www.slgr.gr/el/game/2122082/',\n",
       " 'https://www.slgr.gr/el/game/2122078/',\n",
       " 'https://www.slgr.gr/el/game/2122079/',\n",
       " 'https://www.slgr.gr/el/game/2122084/',\n",
       " 'https://www.slgr.gr/el/game/2122089/',\n",
       " 'https://www.slgr.gr/el/game/2122085/',\n",
       " 'https://www.slgr.gr/el/game/2122087/',\n",
       " 'https://www.slgr.gr/el/game/2122090/',\n",
       " 'https://www.slgr.gr/el/game/2122091/',\n",
       " 'https://www.slgr.gr/el/game/2122088/',\n",
       " 'https://www.slgr.gr/el/game/2122086/',\n",
       " 'https://www.slgr.gr/el/game/2122094/',\n",
       " 'https://www.slgr.gr/el/game/2122092/',\n",
       " 'https://www.slgr.gr/el/game/2122098/',\n",
       " 'https://www.slgr.gr/el/game/2122095/',\n",
       " 'https://www.slgr.gr/el/game/2122097/',\n",
       " 'https://www.slgr.gr/el/game/2122096/',\n",
       " 'https://www.slgr.gr/el/game/2122093/',\n",
       " 'https://www.slgr.gr/el/game/2122104/',\n",
       " 'https://www.slgr.gr/el/game/2122102/',\n",
       " 'https://www.slgr.gr/el/game/2122105/',\n",
       " 'https://www.slgr.gr/el/game/2122103/',\n",
       " 'https://www.slgr.gr/el/game/2122099/',\n",
       " 'https://www.slgr.gr/el/game/2122100/',\n",
       " 'https://www.slgr.gr/el/game/2122101/',\n",
       " 'https://www.slgr.gr/el/game/2122106/',\n",
       " 'https://www.slgr.gr/el/game/2122108/',\n",
       " 'https://www.slgr.gr/el/game/2122112/',\n",
       " 'https://www.slgr.gr/el/game/2122107/',\n",
       " 'https://www.slgr.gr/el/game/2122110/',\n",
       " 'https://www.slgr.gr/el/game/2122111/',\n",
       " 'https://www.slgr.gr/el/game/2122109/',\n",
       " 'https://www.slgr.gr/el/game/2122118/',\n",
       " 'https://www.slgr.gr/el/game/2122115/',\n",
       " 'https://www.slgr.gr/el/game/2122119/',\n",
       " 'https://www.slgr.gr/el/game/2122114/',\n",
       " 'https://www.slgr.gr/el/game/2122116/',\n",
       " 'https://www.slgr.gr/el/game/2122117/',\n",
       " 'https://www.slgr.gr/el/game/2122113/',\n",
       " 'https://www.slgr.gr/el/game/2122123/',\n",
       " 'https://www.slgr.gr/el/game/2122126/',\n",
       " 'https://www.slgr.gr/el/game/2122122/',\n",
       " 'https://www.slgr.gr/el/game/2122125/',\n",
       " 'https://www.slgr.gr/el/game/2122120/',\n",
       " 'https://www.slgr.gr/el/game/2122124/',\n",
       " 'https://www.slgr.gr/el/game/2122121/',\n",
       " 'https://www.slgr.gr/el/game/2122133/',\n",
       " 'https://www.slgr.gr/el/game/2122131/',\n",
       " 'https://www.slgr.gr/el/game/2122127/',\n",
       " 'https://www.slgr.gr/el/game/2122129/',\n",
       " 'https://www.slgr.gr/el/game/2122130/',\n",
       " 'https://www.slgr.gr/el/game/2122132/',\n",
       " 'https://www.slgr.gr/el/game/2122128/',\n",
       " 'https://www.slgr.gr/el/game/2122137/',\n",
       " 'https://www.slgr.gr/el/game/2122140/',\n",
       " 'https://www.slgr.gr/el/game/2122136/',\n",
       " 'https://www.slgr.gr/el/game/2122138/',\n",
       " 'https://www.slgr.gr/el/game/2122135/',\n",
       " 'https://www.slgr.gr/el/game/2122134/',\n",
       " 'https://www.slgr.gr/el/game/2122139/',\n",
       " 'https://www.slgr.gr/el/game/2122143/',\n",
       " 'https://www.slgr.gr/el/game/2122147/',\n",
       " 'https://www.slgr.gr/el/game/2122146/',\n",
       " 'https://www.slgr.gr/el/game/2122142/',\n",
       " 'https://www.slgr.gr/el/game/2122145/',\n",
       " 'https://www.slgr.gr/el/game/2122141/',\n",
       " 'https://www.slgr.gr/el/game/2122144/',\n",
       " 'https://www.slgr.gr/el/game/2122149/',\n",
       " 'https://www.slgr.gr/el/game/2122152/',\n",
       " 'https://www.slgr.gr/el/game/2122148/',\n",
       " 'https://www.slgr.gr/el/game/2122151/',\n",
       " 'https://www.slgr.gr/el/game/2122153/',\n",
       " 'https://www.slgr.gr/el/game/2122150/',\n",
       " 'https://www.slgr.gr/el/game/2122154/',\n",
       " 'https://www.slgr.gr/el/game/2122156/',\n",
       " 'https://www.slgr.gr/el/game/2122157/',\n",
       " 'https://www.slgr.gr/el/game/2122159/',\n",
       " 'https://www.slgr.gr/el/game/2122160/',\n",
       " 'https://www.slgr.gr/el/game/2122161/',\n",
       " 'https://www.slgr.gr/el/game/2122158/',\n",
       " 'https://www.slgr.gr/el/game/2122155/',\n",
       " 'https://www.slgr.gr/el/game/2122166/',\n",
       " 'https://www.slgr.gr/el/game/2122164/',\n",
       " 'https://www.slgr.gr/el/game/2122167/',\n",
       " 'https://www.slgr.gr/el/game/2122168/',\n",
       " 'https://www.slgr.gr/el/game/2122165/',\n",
       " 'https://www.slgr.gr/el/game/2122162/',\n",
       " 'https://www.slgr.gr/el/game/2122163/',\n",
       " 'https://www.slgr.gr/el/game/2122171/',\n",
       " 'https://www.slgr.gr/el/game/2122174/',\n",
       " 'https://www.slgr.gr/el/game/2122175/',\n",
       " 'https://www.slgr.gr/el/game/2122172/',\n",
       " 'https://www.slgr.gr/el/game/2122173/',\n",
       " 'https://www.slgr.gr/el/game/2122170/',\n",
       " 'https://www.slgr.gr/el/game/2122169/',\n",
       " 'https://www.slgr.gr/el/game/2122176/',\n",
       " 'https://www.slgr.gr/el/game/2122177/',\n",
       " 'https://www.slgr.gr/el/game/2122178/',\n",
       " 'https://www.slgr.gr/el/game/2122179/',\n",
       " 'https://www.slgr.gr/el/game/2122180/',\n",
       " 'https://www.slgr.gr/el/game/2122181/',\n",
       " 'https://www.slgr.gr/el/game/2122182/',\n",
       " 'https://www.slgr.gr/el/game/2021003/',\n",
       " 'https://www.slgr.gr/el/game/2021007/',\n",
       " 'https://www.slgr.gr/el/game/2021006/',\n",
       " 'https://www.slgr.gr/el/game/2021005/',\n",
       " 'https://www.slgr.gr/el/game/2021004/',\n",
       " 'https://www.slgr.gr/el/game/2021002/',\n",
       " 'https://www.slgr.gr/el/game/2021001/',\n",
       " 'https://www.slgr.gr/el/game/2021013/',\n",
       " 'https://www.slgr.gr/el/game/2021010/',\n",
       " 'https://www.slgr.gr/el/game/2021012/',\n",
       " 'https://www.slgr.gr/el/game/2021014/',\n",
       " 'https://www.slgr.gr/el/game/2021009/',\n",
       " 'https://www.slgr.gr/el/game/2021011/',\n",
       " 'https://www.slgr.gr/el/game/2021008/',\n",
       " 'https://www.slgr.gr/el/game/2021019/',\n",
       " 'https://www.slgr.gr/el/game/2021020/',\n",
       " 'https://www.slgr.gr/el/game/2021017/',\n",
       " 'https://www.slgr.gr/el/game/2021021/',\n",
       " 'https://www.slgr.gr/el/game/2021015/',\n",
       " 'https://www.slgr.gr/el/game/2021016/',\n",
       " 'https://www.slgr.gr/el/game/2021018/',\n",
       " 'https://www.slgr.gr/el/game/2021026/',\n",
       " 'https://www.slgr.gr/el/game/2021025/',\n",
       " 'https://www.slgr.gr/el/game/2021023/',\n",
       " 'https://www.slgr.gr/el/game/2021027/',\n",
       " 'https://www.slgr.gr/el/game/2021022/',\n",
       " 'https://www.slgr.gr/el/game/2021024/',\n",
       " 'https://www.slgr.gr/el/game/2021028/',\n",
       " 'https://www.slgr.gr/el/game/2021032/',\n",
       " 'https://www.slgr.gr/el/game/2021031/',\n",
       " 'https://www.slgr.gr/el/game/2021033/',\n",
       " 'https://www.slgr.gr/el/game/2021034/',\n",
       " 'https://www.slgr.gr/el/game/2021030/',\n",
       " 'https://www.slgr.gr/el/game/2021029/',\n",
       " 'https://www.slgr.gr/el/game/2021035/',\n",
       " 'https://www.slgr.gr/el/game/2021041/',\n",
       " 'https://www.slgr.gr/el/game/2021039/',\n",
       " 'https://www.slgr.gr/el/game/2021036/',\n",
       " 'https://www.slgr.gr/el/game/2021040/',\n",
       " 'https://www.slgr.gr/el/game/2021037/',\n",
       " 'https://www.slgr.gr/el/game/2021042/',\n",
       " 'https://www.slgr.gr/el/game/2021038/',\n",
       " 'https://www.slgr.gr/el/game/2021047/',\n",
       " 'https://www.slgr.gr/el/game/2021045/',\n",
       " 'https://www.slgr.gr/el/game/2021046/',\n",
       " 'https://www.slgr.gr/el/game/2021049/',\n",
       " 'https://www.slgr.gr/el/game/2021044/',\n",
       " 'https://www.slgr.gr/el/game/2021048/',\n",
       " 'https://www.slgr.gr/el/game/2021043/',\n",
       " 'https://www.slgr.gr/el/game/2021050/',\n",
       " 'https://www.slgr.gr/el/game/2021056/',\n",
       " 'https://www.slgr.gr/el/game/2021055/',\n",
       " 'https://www.slgr.gr/el/game/2021052/',\n",
       " 'https://www.slgr.gr/el/game/2021054/',\n",
       " 'https://www.slgr.gr/el/game/2021053/',\n",
       " 'https://www.slgr.gr/el/game/2021051/',\n",
       " 'https://www.slgr.gr/el/game/2021063/',\n",
       " 'https://www.slgr.gr/el/game/2021058/',\n",
       " 'https://www.slgr.gr/el/game/2021060/',\n",
       " 'https://www.slgr.gr/el/game/2021057/',\n",
       " 'https://www.slgr.gr/el/game/2021061/',\n",
       " 'https://www.slgr.gr/el/game/2021062/',\n",
       " 'https://www.slgr.gr/el/game/2021059/',\n",
       " 'https://www.slgr.gr/el/game/2021064/',\n",
       " 'https://www.slgr.gr/el/game/2021066/',\n",
       " 'https://www.slgr.gr/el/game/2021069/',\n",
       " 'https://www.slgr.gr/el/game/2021068/',\n",
       " 'https://www.slgr.gr/el/game/2021070/',\n",
       " 'https://www.slgr.gr/el/game/2021067/',\n",
       " 'https://www.slgr.gr/el/game/2021065/',\n",
       " 'https://www.slgr.gr/el/game/2021073/',\n",
       " 'https://www.slgr.gr/el/game/2021074/',\n",
       " 'https://www.slgr.gr/el/game/2021075/',\n",
       " 'https://www.slgr.gr/el/game/2021077/',\n",
       " 'https://www.slgr.gr/el/game/2021072/',\n",
       " 'https://www.slgr.gr/el/game/2021071/',\n",
       " 'https://www.slgr.gr/el/game/2021076/',\n",
       " 'https://www.slgr.gr/el/game/2021078/',\n",
       " 'https://www.slgr.gr/el/game/2021083/',\n",
       " 'https://www.slgr.gr/el/game/2021084/',\n",
       " 'https://www.slgr.gr/el/game/2021079/',\n",
       " 'https://www.slgr.gr/el/game/2021082/',\n",
       " 'https://www.slgr.gr/el/game/2021080/',\n",
       " 'https://www.slgr.gr/el/game/2021081/',\n",
       " 'https://www.slgr.gr/el/game/2021090/',\n",
       " 'https://www.slgr.gr/el/game/2021089/',\n",
       " 'https://www.slgr.gr/el/game/2021088/',\n",
       " 'https://www.slgr.gr/el/game/2021091/',\n",
       " 'https://www.slgr.gr/el/game/2021086/',\n",
       " 'https://www.slgr.gr/el/game/2021085/',\n",
       " 'https://www.slgr.gr/el/game/2021087/',\n",
       " 'https://www.slgr.gr/el/game/2021096/',\n",
       " 'https://www.slgr.gr/el/game/2021097/',\n",
       " 'https://www.slgr.gr/el/game/2021093/',\n",
       " 'https://www.slgr.gr/el/game/2021092/',\n",
       " 'https://www.slgr.gr/el/game/2021095/',\n",
       " 'https://www.slgr.gr/el/game/2021094/',\n",
       " 'https://www.slgr.gr/el/game/2021098/',\n",
       " 'https://www.slgr.gr/el/game/2021101/',\n",
       " 'https://www.slgr.gr/el/game/2021099/',\n",
       " 'https://www.slgr.gr/el/game/2021100/',\n",
       " 'https://www.slgr.gr/el/game/2021103/',\n",
       " 'https://www.slgr.gr/el/game/2021102/',\n",
       " 'https://www.slgr.gr/el/game/2021105/',\n",
       " 'https://www.slgr.gr/el/game/2021104/',\n",
       " 'https://www.slgr.gr/el/game/2021110/',\n",
       " 'https://www.slgr.gr/el/game/2021111/',\n",
       " 'https://www.slgr.gr/el/game/2021107/',\n",
       " 'https://www.slgr.gr/el/game/2021108/',\n",
       " 'https://www.slgr.gr/el/game/2021109/',\n",
       " 'https://www.slgr.gr/el/game/2021106/',\n",
       " 'https://www.slgr.gr/el/game/2021112/',\n",
       " 'https://www.slgr.gr/el/game/2021116/',\n",
       " 'https://www.slgr.gr/el/game/2021114/',\n",
       " 'https://www.slgr.gr/el/game/2021118/',\n",
       " 'https://www.slgr.gr/el/game/2021117/',\n",
       " 'https://www.slgr.gr/el/game/2021119/',\n",
       " 'https://www.slgr.gr/el/game/2021115/',\n",
       " 'https://www.slgr.gr/el/game/2021113/',\n",
       " 'https://www.slgr.gr/el/game/2021122/',\n",
       " 'https://www.slgr.gr/el/game/2021121/',\n",
       " 'https://www.slgr.gr/el/game/2021124/',\n",
       " 'https://www.slgr.gr/el/game/2021123/',\n",
       " 'https://www.slgr.gr/el/game/2021125/',\n",
       " 'https://www.slgr.gr/el/game/2021120/',\n",
       " 'https://www.slgr.gr/el/game/2021126/',\n",
       " 'https://www.slgr.gr/el/game/2021131/',\n",
       " 'https://www.slgr.gr/el/game/2021128/',\n",
       " 'https://www.slgr.gr/el/game/2021129/',\n",
       " 'https://www.slgr.gr/el/game/2021127/',\n",
       " 'https://www.slgr.gr/el/game/2021133/',\n",
       " 'https://www.slgr.gr/el/game/2021130/',\n",
       " 'https://www.slgr.gr/el/game/2021132/',\n",
       " 'https://www.slgr.gr/el/game/2021135/',\n",
       " 'https://www.slgr.gr/el/game/2021137/',\n",
       " 'https://www.slgr.gr/el/game/2021139/',\n",
       " 'https://www.slgr.gr/el/game/2021138/',\n",
       " 'https://www.slgr.gr/el/game/2021140/',\n",
       " 'https://www.slgr.gr/el/game/2021134/',\n",
       " 'https://www.slgr.gr/el/game/2021136/',\n",
       " 'https://www.slgr.gr/el/game/2021142/',\n",
       " 'https://www.slgr.gr/el/game/2021146/',\n",
       " 'https://www.slgr.gr/el/game/2021143/',\n",
       " 'https://www.slgr.gr/el/game/2021144/',\n",
       " 'https://www.slgr.gr/el/game/2021141/',\n",
       " 'https://www.slgr.gr/el/game/2021145/',\n",
       " 'https://www.slgr.gr/el/game/2021147/',\n",
       " 'https://www.slgr.gr/el/game/2021152/',\n",
       " 'https://www.slgr.gr/el/game/2021150/',\n",
       " 'https://www.slgr.gr/el/game/2021151/',\n",
       " 'https://www.slgr.gr/el/game/2021153/',\n",
       " 'https://www.slgr.gr/el/game/2021154/',\n",
       " 'https://www.slgr.gr/el/game/2021149/',\n",
       " 'https://www.slgr.gr/el/game/2021148/',\n",
       " 'https://www.slgr.gr/el/game/2021157/',\n",
       " 'https://www.slgr.gr/el/game/2021155/',\n",
       " 'https://www.slgr.gr/el/game/2021158/',\n",
       " 'https://www.slgr.gr/el/game/2021161/',\n",
       " 'https://www.slgr.gr/el/game/2021156/',\n",
       " 'https://www.slgr.gr/el/game/2021159/',\n",
       " 'https://www.slgr.gr/el/game/2021160/',\n",
       " 'https://www.slgr.gr/el/game/2021163/',\n",
       " 'https://www.slgr.gr/el/game/2021165/',\n",
       " 'https://www.slgr.gr/el/game/2021164/',\n",
       " 'https://www.slgr.gr/el/game/2021162/',\n",
       " 'https://www.slgr.gr/el/game/2021168/',\n",
       " 'https://www.slgr.gr/el/game/2021167/',\n",
       " 'https://www.slgr.gr/el/game/2021166/',\n",
       " 'https://www.slgr.gr/el/game/2021173/',\n",
       " 'https://www.slgr.gr/el/game/2021171/',\n",
       " 'https://www.slgr.gr/el/game/2021170/',\n",
       " 'https://www.slgr.gr/el/game/2021172/',\n",
       " 'https://www.slgr.gr/el/game/2021174/',\n",
       " 'https://www.slgr.gr/el/game/2021175/',\n",
       " 'https://www.slgr.gr/el/game/2021169/',\n",
       " 'https://www.slgr.gr/el/game/2021176/',\n",
       " 'https://www.slgr.gr/el/game/2021177/',\n",
       " 'https://www.slgr.gr/el/game/2021178/',\n",
       " 'https://www.slgr.gr/el/game/2021179/',\n",
       " 'https://www.slgr.gr/el/game/2021180/',\n",
       " 'https://www.slgr.gr/el/game/2021181/',\n",
       " 'https://www.slgr.gr/el/game/2021182/',\n",
       " 'https://www.slgr.gr/el/game/1920007/',\n",
       " 'https://www.slgr.gr/el/game/1920002/',\n",
       " 'https://www.slgr.gr/el/game/1920004/',\n",
       " 'https://www.slgr.gr/el/game/1920003/',\n",
       " 'https://www.slgr.gr/el/game/1920005/',\n",
       " 'https://www.slgr.gr/el/game/1920006/',\n",
       " 'https://www.slgr.gr/el/game/1920001/',\n",
       " 'https://www.slgr.gr/el/game/1920012/',\n",
       " 'https://www.slgr.gr/el/game/1920011/',\n",
       " 'https://www.slgr.gr/el/game/1920010/',\n",
       " 'https://www.slgr.gr/el/game/1920013/',\n",
       " 'https://www.slgr.gr/el/game/1920008/',\n",
       " 'https://www.slgr.gr/el/game/1920014/',\n",
       " 'https://www.slgr.gr/el/game/1920009/',\n",
       " 'https://www.slgr.gr/el/game/1920018/',\n",
       " 'https://www.slgr.gr/el/game/1920020/',\n",
       " 'https://www.slgr.gr/el/game/1920019/',\n",
       " 'https://www.slgr.gr/el/game/1920016/',\n",
       " 'https://www.slgr.gr/el/game/1920015/',\n",
       " 'https://www.slgr.gr/el/game/1920021/',\n",
       " 'https://www.slgr.gr/el/game/1920017/',\n",
       " 'https://www.slgr.gr/el/game/1920024/',\n",
       " 'https://www.slgr.gr/el/game/1920023/',\n",
       " 'https://www.slgr.gr/el/game/1920026/',\n",
       " 'https://www.slgr.gr/el/game/1920022/',\n",
       " 'https://www.slgr.gr/el/game/1920027/',\n",
       " 'https://www.slgr.gr/el/game/1920028/',\n",
       " 'https://www.slgr.gr/el/game/1920025/',\n",
       " 'https://www.slgr.gr/el/game/1920031/',\n",
       " 'https://www.slgr.gr/el/game/1920032/',\n",
       " 'https://www.slgr.gr/el/game/1920033/',\n",
       " 'https://www.slgr.gr/el/game/1920034/',\n",
       " 'https://www.slgr.gr/el/game/1920030/',\n",
       " 'https://www.slgr.gr/el/game/1920035/',\n",
       " 'https://www.slgr.gr/el/game/1920029/',\n",
       " 'https://www.slgr.gr/el/game/1920041/',\n",
       " 'https://www.slgr.gr/el/game/1920036/',\n",
       " 'https://www.slgr.gr/el/game/1920039/',\n",
       " 'https://www.slgr.gr/el/game/1920038/',\n",
       " 'https://www.slgr.gr/el/game/1920040/',\n",
       " 'https://www.slgr.gr/el/game/1920037/',\n",
       " 'https://www.slgr.gr/el/game/1920042/',\n",
       " 'https://www.slgr.gr/el/game/1920046/',\n",
       " 'https://www.slgr.gr/el/game/1920047/',\n",
       " 'https://www.slgr.gr/el/game/1920048/',\n",
       " 'https://www.slgr.gr/el/game/1920044/',\n",
       " 'https://www.slgr.gr/el/game/1920049/',\n",
       " 'https://www.slgr.gr/el/game/1920043/',\n",
       " 'https://www.slgr.gr/el/game/1920045/',\n",
       " 'https://www.slgr.gr/el/game/1920055/',\n",
       " 'https://www.slgr.gr/el/game/1920053/',\n",
       " 'https://www.slgr.gr/el/game/1920056/',\n",
       " 'https://www.slgr.gr/el/game/1920052/',\n",
       " 'https://www.slgr.gr/el/game/1920050/',\n",
       " 'https://www.slgr.gr/el/game/1920054/',\n",
       " 'https://www.slgr.gr/el/game/1920051/',\n",
       " 'https://www.slgr.gr/el/game/1920061/',\n",
       " 'https://www.slgr.gr/el/game/1920059/',\n",
       " 'https://www.slgr.gr/el/game/1920058/',\n",
       " 'https://www.slgr.gr/el/game/1920060/',\n",
       " 'https://www.slgr.gr/el/game/1920057/',\n",
       " 'https://www.slgr.gr/el/game/1920062/',\n",
       " 'https://www.slgr.gr/el/game/1920063/',\n",
       " 'https://www.slgr.gr/el/game/1920067/',\n",
       " 'https://www.slgr.gr/el/game/1920069/',\n",
       " 'https://www.slgr.gr/el/game/1920066/',\n",
       " 'https://www.slgr.gr/el/game/1920065/',\n",
       " 'https://www.slgr.gr/el/game/1920068/',\n",
       " 'https://www.slgr.gr/el/game/1920070/',\n",
       " 'https://www.slgr.gr/el/game/1920064/',\n",
       " 'https://www.slgr.gr/el/game/1920075/',\n",
       " 'https://www.slgr.gr/el/game/1920077/',\n",
       " 'https://www.slgr.gr/el/game/1920073/',\n",
       " 'https://www.slgr.gr/el/game/1920072/',\n",
       " 'https://www.slgr.gr/el/game/1920076/',\n",
       " 'https://www.slgr.gr/el/game/1920071/',\n",
       " 'https://www.slgr.gr/el/game/1920074/',\n",
       " 'https://www.slgr.gr/el/game/1920078/',\n",
       " 'https://www.slgr.gr/el/game/1920084/',\n",
       " 'https://www.slgr.gr/el/game/1920082/',\n",
       " 'https://www.slgr.gr/el/game/1920083/',\n",
       " 'https://www.slgr.gr/el/game/1920079/',\n",
       " 'https://www.slgr.gr/el/game/1920080/',\n",
       " 'https://www.slgr.gr/el/game/1920081/',\n",
       " 'https://www.slgr.gr/el/game/1920090/',\n",
       " 'https://www.slgr.gr/el/game/1920085/',\n",
       " 'https://www.slgr.gr/el/game/1920089/',\n",
       " 'https://www.slgr.gr/el/game/1920091/',\n",
       " 'https://www.slgr.gr/el/game/1920086/',\n",
       " 'https://www.slgr.gr/el/game/1920087/',\n",
       " 'https://www.slgr.gr/el/game/1920088/',\n",
       " 'https://www.slgr.gr/el/game/1920096/',\n",
       " 'https://www.slgr.gr/el/game/1920097/',\n",
       " 'https://www.slgr.gr/el/game/1920093/',\n",
       " 'https://www.slgr.gr/el/game/1920092/',\n",
       " 'https://www.slgr.gr/el/game/1920095/',\n",
       " 'https://www.slgr.gr/el/game/1920094/',\n",
       " 'https://www.slgr.gr/el/game/1920098/',\n",
       " 'https://www.slgr.gr/el/game/1920100/',\n",
       " 'https://www.slgr.gr/el/game/1920104/',\n",
       " 'https://www.slgr.gr/el/game/1920103/',\n",
       " 'https://www.slgr.gr/el/game/1920099/',\n",
       " 'https://www.slgr.gr/el/game/1920102/',\n",
       " 'https://www.slgr.gr/el/game/1920101/',\n",
       " 'https://www.slgr.gr/el/game/1920105/',\n",
       " 'https://www.slgr.gr/el/game/1920107/',\n",
       " 'https://www.slgr.gr/el/game/1920112/',\n",
       " 'https://www.slgr.gr/el/game/1920106/',\n",
       " 'https://www.slgr.gr/el/game/1920110/',\n",
       " 'https://www.slgr.gr/el/game/1920108/',\n",
       " 'https://www.slgr.gr/el/game/1920109/',\n",
       " 'https://www.slgr.gr/el/game/1920111/',\n",
       " 'https://www.slgr.gr/el/game/1920118/',\n",
       " 'https://www.slgr.gr/el/game/1920115/',\n",
       " 'https://www.slgr.gr/el/game/1920116/',\n",
       " 'https://www.slgr.gr/el/game/1920113/',\n",
       " 'https://www.slgr.gr/el/game/1920114/',\n",
       " 'https://www.slgr.gr/el/game/1920119/',\n",
       " 'https://www.slgr.gr/el/game/1920117/',\n",
       " 'https://www.slgr.gr/el/game/1920122/',\n",
       " 'https://www.slgr.gr/el/game/1920120/',\n",
       " 'https://www.slgr.gr/el/game/1920124/',\n",
       " 'https://www.slgr.gr/el/game/1920121/',\n",
       " 'https://www.slgr.gr/el/game/1920126/',\n",
       " 'https://www.slgr.gr/el/game/1920125/',\n",
       " 'https://www.slgr.gr/el/game/1920123/',\n",
       " 'https://www.slgr.gr/el/game/1920132/',\n",
       " 'https://www.slgr.gr/el/game/1920131/',\n",
       " 'https://www.slgr.gr/el/game/1920128/',\n",
       " 'https://www.slgr.gr/el/game/1920127/',\n",
       " 'https://www.slgr.gr/el/game/1920129/',\n",
       " 'https://www.slgr.gr/el/game/1920133/',\n",
       " 'https://www.slgr.gr/el/game/1920130/',\n",
       " 'https://www.slgr.gr/el/game/1920134/',\n",
       " 'https://www.slgr.gr/el/game/1920137/',\n",
       " 'https://www.slgr.gr/el/game/1920138/',\n",
       " 'https://www.slgr.gr/el/game/1920139/',\n",
       " 'https://www.slgr.gr/el/game/1920136/',\n",
       " 'https://www.slgr.gr/el/game/1920140/',\n",
       " 'https://www.slgr.gr/el/game/1920135/',\n",
       " 'https://www.slgr.gr/el/game/1920142/',\n",
       " 'https://www.slgr.gr/el/game/1920143/',\n",
       " 'https://www.slgr.gr/el/game/1920145/',\n",
       " 'https://www.slgr.gr/el/game/1920144/',\n",
       " 'https://www.slgr.gr/el/game/1920141/',\n",
       " 'https://www.slgr.gr/el/game/1920146/',\n",
       " 'https://www.slgr.gr/el/game/1920147/',\n",
       " 'https://www.slgr.gr/el/game/1920151/',\n",
       " 'https://www.slgr.gr/el/game/1920153/',\n",
       " 'https://www.slgr.gr/el/game/1920152/',\n",
       " 'https://www.slgr.gr/el/game/1920148/',\n",
       " 'https://www.slgr.gr/el/game/1920149/',\n",
       " 'https://www.slgr.gr/el/game/1920150/',\n",
       " 'https://www.slgr.gr/el/game/1920154/',\n",
       " 'https://www.slgr.gr/el/game/1920159/',\n",
       " 'https://www.slgr.gr/el/game/1920161/',\n",
       " 'https://www.slgr.gr/el/game/1920156/',\n",
       " 'https://www.slgr.gr/el/game/1920157/',\n",
       " 'https://www.slgr.gr/el/game/1920160/',\n",
       " 'https://www.slgr.gr/el/game/1920155/',\n",
       " 'https://www.slgr.gr/el/game/1920158/',\n",
       " 'https://www.slgr.gr/el/game/1920162/',\n",
       " 'https://www.slgr.gr/el/game/1920166/',\n",
       " 'https://www.slgr.gr/el/game/1920168/',\n",
       " 'https://www.slgr.gr/el/game/1920163/',\n",
       " 'https://www.slgr.gr/el/game/1920165/',\n",
       " 'https://www.slgr.gr/el/game/1920164/',\n",
       " 'https://www.slgr.gr/el/game/1920167/',\n",
       " 'https://www.slgr.gr/el/game/1920170/',\n",
       " 'https://www.slgr.gr/el/game/1920175/',\n",
       " 'https://www.slgr.gr/el/game/1920173/',\n",
       " 'https://www.slgr.gr/el/game/1920171/',\n",
       " 'https://www.slgr.gr/el/game/1920172/',\n",
       " 'https://www.slgr.gr/el/game/1920169/',\n",
       " 'https://www.slgr.gr/el/game/1920174/',\n",
       " 'https://www.slgr.gr/el/game/1920176/',\n",
       " 'https://www.slgr.gr/el/game/1920177/',\n",
       " 'https://www.slgr.gr/el/game/1920178/',\n",
       " 'https://www.slgr.gr/el/game/1920180/',\n",
       " 'https://www.slgr.gr/el/game/1920179/',\n",
       " 'https://www.slgr.gr/el/game/1920181/',\n",
       " 'https://www.slgr.gr/el/game/1920182/',\n",
       " 'https://www.slgr.gr/el/game/1819003/',\n",
       " 'https://www.slgr.gr/el/game/1819002/',\n",
       " 'https://www.slgr.gr/el/game/1819005/',\n",
       " 'https://www.slgr.gr/el/game/1819008/',\n",
       " 'https://www.slgr.gr/el/game/1819004/',\n",
       " 'https://www.slgr.gr/el/game/1819001/',\n",
       " 'https://www.slgr.gr/el/game/1819007/',\n",
       " 'https://www.slgr.gr/el/game/1819006/',\n",
       " 'https://www.slgr.gr/el/game/1819013/',\n",
       " 'https://www.slgr.gr/el/game/1819012/',\n",
       " 'https://www.slgr.gr/el/game/1819011/',\n",
       " 'https://www.slgr.gr/el/game/1819015/',\n",
       " 'https://www.slgr.gr/el/game/1819010/',\n",
       " 'https://www.slgr.gr/el/game/1819014/',\n",
       " 'https://www.slgr.gr/el/game/1819016/',\n",
       " 'https://www.slgr.gr/el/game/1819009/',\n",
       " 'https://www.slgr.gr/el/game/1819017/',\n",
       " 'https://www.slgr.gr/el/game/1819023/',\n",
       " 'https://www.slgr.gr/el/game/1819019/',\n",
       " 'https://www.slgr.gr/el/game/1819018/',\n",
       " 'https://www.slgr.gr/el/game/1819022/',\n",
       " 'https://www.slgr.gr/el/game/1819020/',\n",
       " 'https://www.slgr.gr/el/game/1819021/',\n",
       " 'https://www.slgr.gr/el/game/1819024/',\n",
       " 'https://www.slgr.gr/el/game/1819030/',\n",
       " 'https://www.slgr.gr/el/game/1819029/',\n",
       " 'https://www.slgr.gr/el/game/1819032/',\n",
       " 'https://www.slgr.gr/el/game/1819025/',\n",
       " 'https://www.slgr.gr/el/game/1819031/',\n",
       " 'https://www.slgr.gr/el/game/1819026/',\n",
       " 'https://www.slgr.gr/el/game/1819027/',\n",
       " 'https://www.slgr.gr/el/game/1819028/',\n",
       " 'https://www.slgr.gr/el/game/1819036/',\n",
       " 'https://www.slgr.gr/el/game/1819040/',\n",
       " 'https://www.slgr.gr/el/game/1819033/',\n",
       " 'https://www.slgr.gr/el/game/1819037/',\n",
       " 'https://www.slgr.gr/el/game/1819038/',\n",
       " 'https://www.slgr.gr/el/game/1819039/',\n",
       " 'https://www.slgr.gr/el/game/1819035/',\n",
       " 'https://www.slgr.gr/el/game/1819034/',\n",
       " 'https://www.slgr.gr/el/game/1819046/',\n",
       " 'https://www.slgr.gr/el/game/1819045/',\n",
       " 'https://www.slgr.gr/el/game/1819048/',\n",
       " 'https://www.slgr.gr/el/game/1819041/',\n",
       " 'https://www.slgr.gr/el/game/1819044/',\n",
       " 'https://www.slgr.gr/el/game/1819047/',\n",
       " 'https://www.slgr.gr/el/game/1819042/',\n",
       " 'https://www.slgr.gr/el/game/1819043/',\n",
       " 'https://www.slgr.gr/el/game/1819055/',\n",
       " 'https://www.slgr.gr/el/game/1819054/',\n",
       " 'https://www.slgr.gr/el/game/1819051/',\n",
       " 'https://www.slgr.gr/el/game/1819050/',\n",
       " 'https://www.slgr.gr/el/game/1819052/',\n",
       " 'https://www.slgr.gr/el/game/1819053/',\n",
       " 'https://www.slgr.gr/el/game/1819049/',\n",
       " 'https://www.slgr.gr/el/game/1819056/',\n",
       " 'https://www.slgr.gr/el/game/1819057/',\n",
       " 'https://www.slgr.gr/el/game/1819059/',\n",
       " 'https://www.slgr.gr/el/game/1819064/',\n",
       " 'https://www.slgr.gr/el/game/1819063/',\n",
       " 'https://www.slgr.gr/el/game/1819060/',\n",
       " 'https://www.slgr.gr/el/game/1819061/',\n",
       " 'https://www.slgr.gr/el/game/1819058/',\n",
       " 'https://www.slgr.gr/el/game/1819062/',\n",
       " 'https://www.slgr.gr/el/game/1819071/',\n",
       " 'https://www.slgr.gr/el/game/1819072/',\n",
       " 'https://www.slgr.gr/el/game/1819069/',\n",
       " 'https://www.slgr.gr/el/game/1819066/',\n",
       " 'https://www.slgr.gr/el/game/1819068/',\n",
       " 'https://www.slgr.gr/el/game/1819067/',\n",
       " 'https://www.slgr.gr/el/game/1819065/',\n",
       " 'https://www.slgr.gr/el/game/1819070/',\n",
       " 'https://www.slgr.gr/el/game/1819075/',\n",
       " 'https://www.slgr.gr/el/game/1819079/',\n",
       " 'https://www.slgr.gr/el/game/1819073/',\n",
       " 'https://www.slgr.gr/el/game/1819078/',\n",
       " 'https://www.slgr.gr/el/game/1819080/',\n",
       " 'https://www.slgr.gr/el/game/1819077/',\n",
       " 'https://www.slgr.gr/el/game/1819076/',\n",
       " 'https://www.slgr.gr/el/game/1819074/',\n",
       " 'https://www.slgr.gr/el/game/1819083/',\n",
       " 'https://www.slgr.gr/el/game/1819084/',\n",
       " 'https://www.slgr.gr/el/game/1819087/',\n",
       " 'https://www.slgr.gr/el/game/1819088/',\n",
       " 'https://www.slgr.gr/el/game/1819082/',\n",
       " 'https://www.slgr.gr/el/game/1819085/',\n",
       " 'https://www.slgr.gr/el/game/1819081/',\n",
       " 'https://www.slgr.gr/el/game/1819086/',\n",
       " 'https://www.slgr.gr/el/game/1819093/',\n",
       " 'https://www.slgr.gr/el/game/1819092/',\n",
       " 'https://www.slgr.gr/el/game/1819089/',\n",
       " 'https://www.slgr.gr/el/game/1819091/',\n",
       " 'https://www.slgr.gr/el/game/1819090/',\n",
       " 'https://www.slgr.gr/el/game/1819096/',\n",
       " 'https://www.slgr.gr/el/game/1819095/',\n",
       " 'https://www.slgr.gr/el/game/1819094/',\n",
       " 'https://www.slgr.gr/el/game/1819098/',\n",
       " 'https://www.slgr.gr/el/game/1819104/',\n",
       " 'https://www.slgr.gr/el/game/1819103/',\n",
       " 'https://www.slgr.gr/el/game/1819097/',\n",
       " 'https://www.slgr.gr/el/game/1819099/',\n",
       " 'https://www.slgr.gr/el/game/1819102/',\n",
       " 'https://www.slgr.gr/el/game/1819101/',\n",
       " 'https://www.slgr.gr/el/game/1819100/',\n",
       " 'https://www.slgr.gr/el/game/1819107/',\n",
       " 'https://www.slgr.gr/el/game/1819108/',\n",
       " 'https://www.slgr.gr/el/game/1819105/',\n",
       " 'https://www.slgr.gr/el/game/1819110/',\n",
       " 'https://www.slgr.gr/el/game/1819111/',\n",
       " 'https://www.slgr.gr/el/game/1819106/',\n",
       " 'https://www.slgr.gr/el/game/1819112/',\n",
       " 'https://www.slgr.gr/el/game/1819109/',\n",
       " 'https://www.slgr.gr/el/game/1819128/',\n",
       " 'https://www.slgr.gr/el/game/1819122/',\n",
       " 'https://www.slgr.gr/el/game/1819121/',\n",
       " 'https://www.slgr.gr/el/game/1819127/',\n",
       " 'https://www.slgr.gr/el/game/1819124/',\n",
       " 'https://www.slgr.gr/el/game/1819123/',\n",
       " 'https://www.slgr.gr/el/game/1819126/',\n",
       " 'https://www.slgr.gr/el/game/1819125/',\n",
       " 'https://www.slgr.gr/el/game/1819134/',\n",
       " 'https://www.slgr.gr/el/game/1819136/',\n",
       " 'https://www.slgr.gr/el/game/1819130/',\n",
       " 'https://www.slgr.gr/el/game/1819129/',\n",
       " 'https://www.slgr.gr/el/game/1819135/',\n",
       " 'https://www.slgr.gr/el/game/1819131/',\n",
       " 'https://www.slgr.gr/el/game/1819132/',\n",
       " 'https://www.slgr.gr/el/game/1819133/',\n",
       " 'https://www.slgr.gr/el/game/1819143/',\n",
       " 'https://www.slgr.gr/el/game/1819138/',\n",
       " 'https://www.slgr.gr/el/game/1819139/',\n",
       " 'https://www.slgr.gr/el/game/1819144/',\n",
       " 'https://www.slgr.gr/el/game/1819140/',\n",
       " 'https://www.slgr.gr/el/game/1819137/',\n",
       " 'https://www.slgr.gr/el/game/1819142/',\n",
       " 'https://www.slgr.gr/el/game/1819141/',\n",
       " 'https://www.slgr.gr/el/game/1819114/',\n",
       " 'https://www.slgr.gr/el/game/1819119/',\n",
       " 'https://www.slgr.gr/el/game/1819118/',\n",
       " 'https://www.slgr.gr/el/game/1819116/',\n",
       " 'https://www.slgr.gr/el/game/1819115/',\n",
       " 'https://www.slgr.gr/el/game/1819120/',\n",
       " 'https://www.slgr.gr/el/game/1819113/',\n",
       " 'https://www.slgr.gr/el/game/1819117/',\n",
       " 'https://www.slgr.gr/el/game/1819147/',\n",
       " 'https://www.slgr.gr/el/game/1819148/',\n",
       " 'https://www.slgr.gr/el/game/1819145/',\n",
       " 'https://www.slgr.gr/el/game/1819150/',\n",
       " 'https://www.slgr.gr/el/game/1819149/',\n",
       " 'https://www.slgr.gr/el/game/1819151/',\n",
       " 'https://www.slgr.gr/el/game/1819152/',\n",
       " 'https://www.slgr.gr/el/game/1819146/',\n",
       " 'https://www.slgr.gr/el/game/1819157/',\n",
       " 'https://www.slgr.gr/el/game/1819154/',\n",
       " 'https://www.slgr.gr/el/game/1819160/',\n",
       " 'https://www.slgr.gr/el/game/1819153/',\n",
       " 'https://www.slgr.gr/el/game/1819158/',\n",
       " 'https://www.slgr.gr/el/game/1819155/',\n",
       " 'https://www.slgr.gr/el/game/1819156/',\n",
       " 'https://www.slgr.gr/el/game/1819159/',\n",
       " 'https://www.slgr.gr/el/game/1819168/',\n",
       " 'https://www.slgr.gr/el/game/1819167/',\n",
       " 'https://www.slgr.gr/el/game/1819163/',\n",
       " 'https://www.slgr.gr/el/game/1819165/',\n",
       " 'https://www.slgr.gr/el/game/1819166/',\n",
       " 'https://www.slgr.gr/el/game/1819162/',\n",
       " 'https://www.slgr.gr/el/game/1819164/',\n",
       " 'https://www.slgr.gr/el/game/1819161/',\n",
       " 'https://www.slgr.gr/el/game/1819176/',\n",
       " 'https://www.slgr.gr/el/game/1819171/',\n",
       " 'https://www.slgr.gr/el/game/1819175/',\n",
       " 'https://www.slgr.gr/el/game/1819172/',\n",
       " 'https://www.slgr.gr/el/game/1819170/',\n",
       " 'https://www.slgr.gr/el/game/1819173/',\n",
       " 'https://www.slgr.gr/el/game/1819169/',\n",
       " 'https://www.slgr.gr/el/game/1819174/',\n",
       " 'https://www.slgr.gr/el/game/1819180/',\n",
       " 'https://www.slgr.gr/el/game/1819181/',\n",
       " 'https://www.slgr.gr/el/game/1819177/',\n",
       " 'https://www.slgr.gr/el/game/1819184/',\n",
       " 'https://www.slgr.gr/el/game/1819179/',\n",
       " 'https://www.slgr.gr/el/game/1819182/',\n",
       " 'https://www.slgr.gr/el/game/1819183/',\n",
       " 'https://www.slgr.gr/el/game/1819178/',\n",
       " 'https://www.slgr.gr/el/game/1819190/',\n",
       " 'https://www.slgr.gr/el/game/1819189/',\n",
       " 'https://www.slgr.gr/el/game/1819186/',\n",
       " 'https://www.slgr.gr/el/game/1819185/',\n",
       " 'https://www.slgr.gr/el/game/1819191/',\n",
       " 'https://www.slgr.gr/el/game/1819188/',\n",
       " 'https://www.slgr.gr/el/game/1819187/',\n",
       " 'https://www.slgr.gr/el/game/1819192/',\n",
       " 'https://www.slgr.gr/el/game/1819197/',\n",
       " 'https://www.slgr.gr/el/game/1819200/',\n",
       " 'https://www.slgr.gr/el/game/1819195/',\n",
       " 'https://www.slgr.gr/el/game/1819193/',\n",
       " 'https://www.slgr.gr/el/game/1819198/',\n",
       " 'https://www.slgr.gr/el/game/1819196/',\n",
       " 'https://www.slgr.gr/el/game/1819199/',\n",
       " 'https://www.slgr.gr/el/game/1819194/',\n",
       " 'https://www.slgr.gr/el/game/1819202/',\n",
       " 'https://www.slgr.gr/el/game/1819206/',\n",
       " 'https://www.slgr.gr/el/game/1819204/',\n",
       " 'https://www.slgr.gr/el/game/1819201/',\n",
       " 'https://www.slgr.gr/el/game/1819207/',\n",
       " 'https://www.slgr.gr/el/game/1819208/',\n",
       " 'https://www.slgr.gr/el/game/1819205/',\n",
       " 'https://www.slgr.gr/el/game/1819203/',\n",
       " 'https://www.slgr.gr/el/game/1819209/',\n",
       " 'https://www.slgr.gr/el/game/1819210/',\n",
       " 'https://www.slgr.gr/el/game/1819213/',\n",
       " 'https://www.slgr.gr/el/game/1819216/',\n",
       " 'https://www.slgr.gr/el/game/1819211/',\n",
       " 'https://www.slgr.gr/el/game/1819214/',\n",
       " 'https://www.slgr.gr/el/game/1819215/',\n",
       " 'https://www.slgr.gr/el/game/1819212/',\n",
       " 'https://www.slgr.gr/el/game/1819222/',\n",
       " 'https://www.slgr.gr/el/game/1819221/',\n",
       " 'https://www.slgr.gr/el/game/1819219/',\n",
       " 'https://www.slgr.gr/el/game/1819224/',\n",
       " 'https://www.slgr.gr/el/game/1819220/',\n",
       " 'https://www.slgr.gr/el/game/1819223/',\n",
       " 'https://www.slgr.gr/el/game/1819217/',\n",
       " 'https://www.slgr.gr/el/game/1819218/',\n",
       " 'https://www.slgr.gr/el/game/1819231/',\n",
       " 'https://www.slgr.gr/el/game/1819230/',\n",
       " 'https://www.slgr.gr/el/game/1819226/',\n",
       " 'https://www.slgr.gr/el/game/1819232/',\n",
       " 'https://www.slgr.gr/el/game/1819225/',\n",
       " 'https://www.slgr.gr/el/game/1819229/',\n",
       " 'https://www.slgr.gr/el/game/1819228/',\n",
       " 'https://www.slgr.gr/el/game/1819227/',\n",
       " 'https://www.slgr.gr/el/game/1819239/',\n",
       " 'https://www.slgr.gr/el/game/1819235/',\n",
       " 'https://www.slgr.gr/el/game/1819240/',\n",
       " 'https://www.slgr.gr/el/game/1819237/',\n",
       " 'https://www.slgr.gr/el/game/1819234/',\n",
       " 'https://www.slgr.gr/el/game/1819233/',\n",
       " 'https://www.slgr.gr/el/game/1819238/',\n",
       " 'https://www.slgr.gr/el/game/1819236/',\n",
       " 'https://www.slgr.gr/el/game/1718001/',\n",
       " 'https://www.slgr.gr/el/game/1718005/',\n",
       " 'https://www.slgr.gr/el/game/1718003/',\n",
       " 'https://www.slgr.gr/el/game/1718007/',\n",
       " 'https://www.slgr.gr/el/game/1718006/',\n",
       " 'https://www.slgr.gr/el/game/1718004/',\n",
       " 'https://www.slgr.gr/el/game/1718002/',\n",
       " 'https://www.slgr.gr/el/game/1718008/',\n",
       " 'https://www.slgr.gr/el/game/1718016/',\n",
       " 'https://www.slgr.gr/el/game/1718009/',\n",
       " 'https://www.slgr.gr/el/game/1718010/',\n",
       " 'https://www.slgr.gr/el/game/1718013/',\n",
       " 'https://www.slgr.gr/el/game/1718011/',\n",
       " 'https://www.slgr.gr/el/game/1718015/',\n",
       " 'https://www.slgr.gr/el/game/1718014/',\n",
       " 'https://www.slgr.gr/el/game/1718012/',\n",
       " 'https://www.slgr.gr/el/game/1718019/',\n",
       " 'https://www.slgr.gr/el/game/1718023/',\n",
       " 'https://www.slgr.gr/el/game/1718017/',\n",
       " 'https://www.slgr.gr/el/game/1718024/',\n",
       " 'https://www.slgr.gr/el/game/1718021/',\n",
       " 'https://www.slgr.gr/el/game/1718018/',\n",
       " 'https://www.slgr.gr/el/game/1718020/',\n",
       " 'https://www.slgr.gr/el/game/1718022/',\n",
       " 'https://www.slgr.gr/el/game/1718025/',\n",
       " 'https://www.slgr.gr/el/game/1718031/',\n",
       " 'https://www.slgr.gr/el/game/1718026/',\n",
       " 'https://www.slgr.gr/el/game/1718029/',\n",
       " 'https://www.slgr.gr/el/game/1718030/',\n",
       " 'https://www.slgr.gr/el/game/1718027/',\n",
       " 'https://www.slgr.gr/el/game/1718028/',\n",
       " 'https://www.slgr.gr/el/game/1718032/',\n",
       " 'https://www.slgr.gr/el/game/1718036/',\n",
       " 'https://www.slgr.gr/el/game/1718037/',\n",
       " 'https://www.slgr.gr/el/game/1718038/',\n",
       " 'https://www.slgr.gr/el/game/1718040/',\n",
       " 'https://www.slgr.gr/el/game/1718034/',\n",
       " 'https://www.slgr.gr/el/game/1718039/',\n",
       " 'https://www.slgr.gr/el/game/1718035/',\n",
       " 'https://www.slgr.gr/el/game/1718033/',\n",
       " 'https://www.slgr.gr/el/game/1718045/',\n",
       " 'https://www.slgr.gr/el/game/1718047/',\n",
       " 'https://www.slgr.gr/el/game/1718048/',\n",
       " 'https://www.slgr.gr/el/game/1718044/',\n",
       " 'https://www.slgr.gr/el/game/1718041/',\n",
       " 'https://www.slgr.gr/el/game/1718043/',\n",
       " 'https://www.slgr.gr/el/game/1718042/',\n",
       " 'https://www.slgr.gr/el/game/1718046/',\n",
       " 'https://www.slgr.gr/el/game/1718054/',\n",
       " 'https://www.slgr.gr/el/game/1718051/',\n",
       " 'https://www.slgr.gr/el/game/1718053/',\n",
       " 'https://www.slgr.gr/el/game/1718055/',\n",
       " 'https://www.slgr.gr/el/game/1718050/',\n",
       " 'https://www.slgr.gr/el/game/1718052/',\n",
       " 'https://www.slgr.gr/el/game/1718049/',\n",
       " 'https://www.slgr.gr/el/game/1718056/',\n",
       " 'https://www.slgr.gr/el/game/1718061/',\n",
       " 'https://www.slgr.gr/el/game/1718059/',\n",
       " 'https://www.slgr.gr/el/game/1718064/',\n",
       " 'https://www.slgr.gr/el/game/1718060/',\n",
       " 'https://www.slgr.gr/el/game/1718057/',\n",
       " 'https://www.slgr.gr/el/game/1718063/',\n",
       " 'https://www.slgr.gr/el/game/1718062/',\n",
       " 'https://www.slgr.gr/el/game/1718058/',\n",
       " 'https://www.slgr.gr/el/game/1718070/',\n",
       " 'https://www.slgr.gr/el/game/1718068/',\n",
       " 'https://www.slgr.gr/el/game/1718071/',\n",
       " 'https://www.slgr.gr/el/game/1718065/',\n",
       " 'https://www.slgr.gr/el/game/1718072/',\n",
       " 'https://www.slgr.gr/el/game/1718066/',\n",
       " 'https://www.slgr.gr/el/game/1718067/',\n",
       " 'https://www.slgr.gr/el/game/1718069/',\n",
       " 'https://www.slgr.gr/el/game/1718073/',\n",
       " 'https://www.slgr.gr/el/game/1718074/',\n",
       " 'https://www.slgr.gr/el/game/1718078/',\n",
       " 'https://www.slgr.gr/el/game/1718080/',\n",
       " 'https://www.slgr.gr/el/game/1718077/',\n",
       " 'https://www.slgr.gr/el/game/1718075/',\n",
       " 'https://www.slgr.gr/el/game/1718076/',\n",
       " 'https://www.slgr.gr/el/game/1718079/',\n",
       " 'https://www.slgr.gr/el/game/1718086/',\n",
       " 'https://www.slgr.gr/el/game/1718084/',\n",
       " 'https://www.slgr.gr/el/game/1718088/',\n",
       " 'https://www.slgr.gr/el/game/1718081/',\n",
       " 'https://www.slgr.gr/el/game/1718082/',\n",
       " 'https://www.slgr.gr/el/game/1718087/',\n",
       " 'https://www.slgr.gr/el/game/1718085/',\n",
       " 'https://www.slgr.gr/el/game/1718083/',\n",
       " 'https://www.slgr.gr/el/game/1718089/',\n",
       " 'https://www.slgr.gr/el/game/1718093/',\n",
       " 'https://www.slgr.gr/el/game/1718092/',\n",
       " 'https://www.slgr.gr/el/game/1718090/',\n",
       " 'https://www.slgr.gr/el/game/1718096/',\n",
       " 'https://www.slgr.gr/el/game/1718091/',\n",
       " 'https://www.slgr.gr/el/game/1718095/',\n",
       " 'https://www.slgr.gr/el/game/1718094/',\n",
       " 'https://www.slgr.gr/el/game/1718104/',\n",
       " 'https://www.slgr.gr/el/game/1718097/',\n",
       " 'https://www.slgr.gr/el/game/1718102/',\n",
       " 'https://www.slgr.gr/el/game/1718099/',\n",
       " 'https://www.slgr.gr/el/game/1718098/',\n",
       " 'https://www.slgr.gr/el/game/1718100/',\n",
       " 'https://www.slgr.gr/el/game/1718103/',\n",
       " 'https://www.slgr.gr/el/game/1718101/',\n",
       " 'https://www.slgr.gr/el/game/1718105/',\n",
       " 'https://www.slgr.gr/el/game/1718108/',\n",
       " 'https://www.slgr.gr/el/game/1718109/',\n",
       " 'https://www.slgr.gr/el/game/1718111/',\n",
       " 'https://www.slgr.gr/el/game/1718110/',\n",
       " 'https://www.slgr.gr/el/game/1718107/',\n",
       " 'https://www.slgr.gr/el/game/1718106/',\n",
       " 'https://www.slgr.gr/el/game/1718112/',\n",
       " 'https://www.slgr.gr/el/game/1718119/',\n",
       " 'https://www.slgr.gr/el/game/1718120/',\n",
       " 'https://www.slgr.gr/el/game/1718115/',\n",
       " 'https://www.slgr.gr/el/game/1718116/',\n",
       " 'https://www.slgr.gr/el/game/1718118/',\n",
       " 'https://www.slgr.gr/el/game/1718114/',\n",
       " 'https://www.slgr.gr/el/game/1718113/',\n",
       " 'https://www.slgr.gr/el/game/1718117/',\n",
       " 'https://www.slgr.gr/el/game/1718126/',\n",
       " 'https://www.slgr.gr/el/game/1718124/',\n",
       " 'https://www.slgr.gr/el/game/1718127/',\n",
       " 'https://www.slgr.gr/el/game/1718122/',\n",
       " 'https://www.slgr.gr/el/game/1718121/',\n",
       " 'https://www.slgr.gr/el/game/1718125/',\n",
       " 'https://www.slgr.gr/el/game/1718123/',\n",
       " 'https://www.slgr.gr/el/game/1718128/',\n",
       " 'https://www.slgr.gr/el/game/1718129/',\n",
       " 'https://www.slgr.gr/el/game/1718135/',\n",
       " 'https://www.slgr.gr/el/game/1718133/',\n",
       " 'https://www.slgr.gr/el/game/1718132/',\n",
       " 'https://www.slgr.gr/el/game/1718136/',\n",
       " 'https://www.slgr.gr/el/game/1718134/',\n",
       " 'https://www.slgr.gr/el/game/1718131/',\n",
       " 'https://www.slgr.gr/el/game/1718130/',\n",
       " 'https://www.slgr.gr/el/game/1718138/',\n",
       " 'https://www.slgr.gr/el/game/1718140/',\n",
       " 'https://www.slgr.gr/el/game/1718141/',\n",
       " 'https://www.slgr.gr/el/game/1718142/',\n",
       " 'https://www.slgr.gr/el/game/1718139/',\n",
       " 'https://www.slgr.gr/el/game/1718144/',\n",
       " 'https://www.slgr.gr/el/game/1718143/',\n",
       " 'https://www.slgr.gr/el/game/1718137/',\n",
       " 'https://www.slgr.gr/el/game/1718147/',\n",
       " 'https://www.slgr.gr/el/game/1718149/',\n",
       " 'https://www.slgr.gr/el/game/1718148/',\n",
       " 'https://www.slgr.gr/el/game/1718151/',\n",
       " 'https://www.slgr.gr/el/game/1718145/',\n",
       " 'https://www.slgr.gr/el/game/1718150/',\n",
       " 'https://www.slgr.gr/el/game/1718152/',\n",
       " 'https://www.slgr.gr/el/game/1718146/',\n",
       " 'https://www.slgr.gr/el/game/1718153/',\n",
       " 'https://www.slgr.gr/el/game/1718159/',\n",
       " 'https://www.slgr.gr/el/game/1718158/',\n",
       " 'https://www.slgr.gr/el/game/1718160/',\n",
       " 'https://www.slgr.gr/el/game/1718157/',\n",
       " 'https://www.slgr.gr/el/game/1718154/',\n",
       " 'https://www.slgr.gr/el/game/1718155/',\n",
       " 'https://www.slgr.gr/el/game/1718156/',\n",
       " 'https://www.slgr.gr/el/game/1718161/',\n",
       " 'https://www.slgr.gr/el/game/1718166/',\n",
       " 'https://www.slgr.gr/el/game/1718167/',\n",
       " 'https://www.slgr.gr/el/game/1718163/',\n",
       " 'https://www.slgr.gr/el/game/1718162/',\n",
       " 'https://www.slgr.gr/el/game/1718165/',\n",
       " 'https://www.slgr.gr/el/game/1718164/',\n",
       " 'https://www.slgr.gr/el/game/1718168/',\n",
       " 'https://www.slgr.gr/el/game/1718170/',\n",
       " 'https://www.slgr.gr/el/game/1718171/',\n",
       " 'https://www.slgr.gr/el/game/1718175/',\n",
       " 'https://www.slgr.gr/el/game/1718174/',\n",
       " 'https://www.slgr.gr/el/game/1718169/',\n",
       " 'https://www.slgr.gr/el/game/1718172/',\n",
       " 'https://www.slgr.gr/el/game/1718173/',\n",
       " 'https://www.slgr.gr/el/game/1718176/',\n",
       " 'https://www.slgr.gr/el/game/1718181/',\n",
       " 'https://www.slgr.gr/el/game/1718180/',\n",
       " 'https://www.slgr.gr/el/game/1718184/',\n",
       " 'https://www.slgr.gr/el/game/1718177/',\n",
       " 'https://www.slgr.gr/el/game/1718183/',\n",
       " 'https://www.slgr.gr/el/game/1718179/',\n",
       " 'https://www.slgr.gr/el/game/1718182/',\n",
       " 'https://www.slgr.gr/el/game/1718178/',\n",
       " 'https://www.slgr.gr/el/game/1718192/',\n",
       " 'https://www.slgr.gr/el/game/1718188/',\n",
       " 'https://www.slgr.gr/el/game/1718185/',\n",
       " 'https://www.slgr.gr/el/game/1718189/',\n",
       " 'https://www.slgr.gr/el/game/1718187/',\n",
       " 'https://www.slgr.gr/el/game/1718190/',\n",
       " 'https://www.slgr.gr/el/game/1718191/',\n",
       " 'https://www.slgr.gr/el/game/1718186/',\n",
       " 'https://www.slgr.gr/el/game/1718197/',\n",
       " 'https://www.slgr.gr/el/game/1718194/',\n",
       " 'https://www.slgr.gr/el/game/1718198/',\n",
       " 'https://www.slgr.gr/el/game/1718200/',\n",
       " 'https://www.slgr.gr/el/game/1718193/',\n",
       " 'https://www.slgr.gr/el/game/1718199/',\n",
       " 'https://www.slgr.gr/el/game/1718196/',\n",
       " 'https://www.slgr.gr/el/game/1718195/',\n",
       " 'https://www.slgr.gr/el/game/1718202/',\n",
       " 'https://www.slgr.gr/el/game/1718203/',\n",
       " 'https://www.slgr.gr/el/game/1718208/',\n",
       " 'https://www.slgr.gr/el/game/1718201/',\n",
       " 'https://www.slgr.gr/el/game/1718206/',\n",
       " 'https://www.slgr.gr/el/game/1718204/',\n",
       " 'https://www.slgr.gr/el/game/1718205/',\n",
       " 'https://www.slgr.gr/el/game/1718207/',\n",
       " 'https://www.slgr.gr/el/game/1718213/',\n",
       " 'https://www.slgr.gr/el/game/1718216/',\n",
       " 'https://www.slgr.gr/el/game/1718210/',\n",
       " 'https://www.slgr.gr/el/game/1718211/',\n",
       " 'https://www.slgr.gr/el/game/1718209/',\n",
       " 'https://www.slgr.gr/el/game/1718212/',\n",
       " ...]"
      ]
     },
     "execution_count": 103,
     "metadata": {},
     "output_type": "execute_result"
    }
   ],
   "source": [
    "sl_games"
   ]
  },
  {
   "cell_type": "code",
   "execution_count": 104,
   "id": "4b84f73a",
   "metadata": {},
   "outputs": [
    {
     "data": {
      "text/plain": [
       "'https://www.slgr.gr/el/game/607237/'"
      ]
     },
     "execution_count": 104,
     "metadata": {},
     "output_type": "execute_result"
    }
   ],
   "source": [
    "sl_games[-1]"
   ]
  },
  {
   "cell_type": "markdown",
   "id": "55f94a72",
   "metadata": {},
   "source": [
    "### Get info's for first game"
   ]
  },
  {
   "cell_type": "code",
   "execution_count": 115,
   "id": "bb0e5c81",
   "metadata": {},
   "outputs": [],
   "source": [
    "link1 = sl_games[0]"
   ]
  },
  {
   "cell_type": "code",
   "execution_count": 116,
   "id": "9a0c9ff6",
   "metadata": {},
   "outputs": [],
   "source": [
    "response = requests.get(link1, headers= {'User-agent': 'Chrome'}, timeout= 15)"
   ]
  },
  {
   "cell_type": "code",
   "execution_count": 117,
   "id": "bb6253ae",
   "metadata": {},
   "outputs": [],
   "source": [
    "soup = BeautifulSoup(response.content, 'html.parser')"
   ]
  },
  {
   "cell_type": "markdown",
   "id": "0e3183e9",
   "metadata": {},
   "source": [
    "#### Fixture"
   ]
  },
  {
   "cell_type": "code",
   "execution_count": 118,
   "id": "971abfdd",
   "metadata": {
    "scrolled": true
   },
   "outputs": [
    {
     "data": {
      "text/plain": [
       "'1η Αγωνιστική'"
      ]
     },
     "execution_count": 118,
     "metadata": {},
     "output_type": "execute_result"
    }
   ],
   "source": [
    "fixture = soup.find('div',{'class':'row match mobile'}).find('h3',{'class':'leg-name'}).text.strip()\n",
    "fixture"
   ]
  },
  {
   "cell_type": "markdown",
   "id": "c4f40e88",
   "metadata": {},
   "source": [
    "#### Season"
   ]
  },
  {
   "cell_type": "code",
   "execution_count": 122,
   "id": "1895f601",
   "metadata": {},
   "outputs": [
    {
     "data": {
      "text/plain": [
       "'2122'"
      ]
     },
     "execution_count": 122,
     "metadata": {},
     "output_type": "execute_result"
    }
   ],
   "source": [
    "season = link1.split('game/')[1][0:4]\n",
    "season"
   ]
  },
  {
   "cell_type": "code",
   "execution_count": 123,
   "id": "55627318",
   "metadata": {
    "scrolled": true
   },
   "outputs": [
    {
     "data": {
      "text/plain": [
       "'https://www.slgr.gr/el/game/607237/'"
      ]
     },
     "execution_count": 123,
     "metadata": {},
     "output_type": "execute_result"
    }
   ],
   "source": [
    "sl_games[-1] # Se afta pou einai prin to 2010 tha prepei na to diorthoso monos mou "
   ]
  },
  {
   "cell_type": "markdown",
   "id": "a47884ff",
   "metadata": {},
   "source": [
    "#### Stadium"
   ]
  },
  {
   "cell_type": "code",
   "execution_count": 125,
   "id": "236891a4",
   "metadata": {},
   "outputs": [
    {
     "data": {
      "text/plain": [
       "'ΓΗΠΕΔΟ ΠΑΝΑΙΤΩΛΙΚΟΥ'"
      ]
     },
     "execution_count": 125,
     "metadata": {},
     "output_type": "execute_result"
    }
   ],
   "source": [
    "stadium =  soup.find('div',{'class':'row match mobile'}).find('h5').text.strip()\n",
    "stadium"
   ]
  },
  {
   "cell_type": "markdown",
   "id": "bf734f2a",
   "metadata": {},
   "source": [
    "#### Go to statistics page"
   ]
  },
  {
   "cell_type": "code",
   "execution_count": 126,
   "id": "e7e1d955",
   "metadata": {},
   "outputs": [
    {
     "data": {
      "text/plain": [
       "'https://www.slgr.gr/el/game/2122006/'"
      ]
     },
     "execution_count": 126,
     "metadata": {},
     "output_type": "execute_result"
    }
   ],
   "source": [
    "link1"
   ]
  },
  {
   "cell_type": "code",
   "execution_count": 127,
   "id": "a431affb",
   "metadata": {},
   "outputs": [],
   "source": [
    "link1 = link1 + 'statistics/'"
   ]
  },
  {
   "cell_type": "code",
   "execution_count": 128,
   "id": "352342e9",
   "metadata": {},
   "outputs": [
    {
     "data": {
      "text/plain": [
       "'https://www.slgr.gr/el/game/2122006/statistics/'"
      ]
     },
     "execution_count": 128,
     "metadata": {},
     "output_type": "execute_result"
    }
   ],
   "source": [
    "link1"
   ]
  },
  {
   "cell_type": "code",
   "execution_count": 129,
   "id": "3e352a6d",
   "metadata": {},
   "outputs": [],
   "source": [
    "response = requests.get(link1, headers= {'User-agent': 'Chrome'}, timeout= 15)"
   ]
  },
  {
   "cell_type": "code",
   "execution_count": 130,
   "id": "e063f8ed",
   "metadata": {},
   "outputs": [],
   "source": [
    "soup = BeautifulSoup(response.content, 'html.parser')"
   ]
  },
  {
   "cell_type": "code",
   "execution_count": 131,
   "id": "e7bb3a5e",
   "metadata": {},
   "outputs": [
    {
     "data": {
      "text/plain": [
       "'1η Αγωνιστική'"
      ]
     },
     "execution_count": 131,
     "metadata": {},
     "output_type": "execute_result"
    }
   ],
   "source": [
    "fixture = soup.find('div',{'class':'row match mobile'}).find('h3',{'class':'leg-name'}).text.strip()\n",
    "fixture"
   ]
  },
  {
   "cell_type": "code",
   "execution_count": 132,
   "id": "30efa5a1",
   "metadata": {},
   "outputs": [
    {
     "data": {
      "text/plain": [
       "'ΓΗΠΕΔΟ ΠΑΝΑΙΤΩΛΙΚΟΥ'"
      ]
     },
     "execution_count": 132,
     "metadata": {},
     "output_type": "execute_result"
    }
   ],
   "source": [
    "stadium =  soup.find('div',{'class':'row match mobile'}).find('h5').text.strip()\n",
    "stadium"
   ]
  },
  {
   "cell_type": "code",
   "execution_count": 133,
   "id": "d5cc75e0",
   "metadata": {},
   "outputs": [
    {
     "data": {
      "text/plain": [
       "<div class=\"score bold\">\n",
       "<span class=\"home-team-score\">0</span> :\n",
       "                                        <span class=\"away-team-score\">0</span>\n",
       "</div>"
      ]
     },
     "execution_count": 133,
     "metadata": {},
     "output_type": "execute_result"
    }
   ],
   "source": [
    "score_details = soup.find('div',{'class':'score bold'})\n",
    "score_details"
   ]
  },
  {
   "cell_type": "code",
   "execution_count": 134,
   "id": "879f27f1",
   "metadata": {},
   "outputs": [
    {
     "data": {
      "text/plain": [
       "'0'"
      ]
     },
     "execution_count": 134,
     "metadata": {},
     "output_type": "execute_result"
    }
   ],
   "source": [
    "home_score = score_details.find('span',{'class':'home-team-score'}).text.strip()\n",
    "home_score"
   ]
  },
  {
   "cell_type": "code",
   "execution_count": 135,
   "id": "99bef7b1",
   "metadata": {},
   "outputs": [
    {
     "data": {
      "text/plain": [
       "'0'"
      ]
     },
     "execution_count": 135,
     "metadata": {},
     "output_type": "execute_result"
    }
   ],
   "source": [
    "away_score = score_details.find('span',{'class':'away-team-score'}).text.strip()\n",
    "away_score"
   ]
  },
  {
   "cell_type": "markdown",
   "id": "c895b713",
   "metadata": {},
   "source": [
    "### We get all the information and also the statistics. Hence:"
   ]
  },
  {
   "cell_type": "code",
   "execution_count": 136,
   "id": "6b14918d",
   "metadata": {},
   "outputs": [],
   "source": [
    "games_statistics = []\n",
    "for link in sl_games:\n",
    "    games_statistics.append(link+'statistics/')"
   ]
  },
  {
   "cell_type": "code",
   "execution_count": 138,
   "id": "dc82aa01",
   "metadata": {},
   "outputs": [
    {
     "data": {
      "text/plain": [
       "3799"
      ]
     },
     "execution_count": 138,
     "metadata": {},
     "output_type": "execute_result"
    }
   ],
   "source": [
    "len(games_statistics)"
   ]
  },
  {
   "cell_type": "markdown",
   "id": "d31abff4",
   "metadata": {},
   "source": [
    "#### Notice here I change game (I choose the second instead of first)"
   ]
  },
  {
   "cell_type": "code",
   "execution_count": 140,
   "id": "8bc6e392",
   "metadata": {},
   "outputs": [],
   "source": [
    "link1 = games_statistics[1]"
   ]
  },
  {
   "cell_type": "code",
   "execution_count": 141,
   "id": "97814ba3",
   "metadata": {},
   "outputs": [],
   "source": [
    "response = requests.get(link1, headers= {'User-agent': 'Chrome'}, timeout= 15)"
   ]
  },
  {
   "cell_type": "code",
   "execution_count": 142,
   "id": "4a9d1bad",
   "metadata": {},
   "outputs": [],
   "source": [
    "soup = BeautifulSoup(response.content, 'html.parser')"
   ]
  },
  {
   "cell_type": "code",
   "execution_count": 143,
   "id": "5a345e40",
   "metadata": {},
   "outputs": [],
   "source": [
    "table_info = soup.find('div',{'class':'tab-pane active'})"
   ]
  },
  {
   "cell_type": "code",
   "execution_count": 144,
   "id": "33beb4d3",
   "metadata": {},
   "outputs": [],
   "source": [
    "game_table = soup.find('div', {'class':'game-table table-striped margin-bottom game-stats'})"
   ]
  },
  {
   "cell_type": "markdown",
   "id": "6fb90306",
   "metadata": {},
   "source": [
    "#### team names"
   ]
  },
  {
   "cell_type": "code",
   "execution_count": 145,
   "id": "09954795",
   "metadata": {},
   "outputs": [
    {
     "data": {
      "text/plain": [
       "<div class=\"thead\">\n",
       "<div class=\"trow\">\n",
       "<div class=\"t-col ellipsis no-padding-right text-center team-name home\">\n",
       "                                            ΠΑΝΑΘΗΝΑΪΚΟΣ</div>\n",
       "<div class=\"t-col middle no-padding-left no-padding-right stats-col\"></div>\n",
       "<div class=\"t-col ellipsis no-padding-left text-center team-name away\">\n",
       "                                            ΑΠΟΛΛΩΝ ΣΜ.</div>\n",
       "</div>\n",
       "</div>"
      ]
     },
     "execution_count": 145,
     "metadata": {},
     "output_type": "execute_result"
    }
   ],
   "source": [
    "teams = game_table.find('div',{'class':'thead'})\n",
    "teams"
   ]
  },
  {
   "cell_type": "code",
   "execution_count": 146,
   "id": "213f6e1a",
   "metadata": {},
   "outputs": [
    {
     "data": {
      "text/plain": [
       "'ΠΑΝΑΘΗΝΑΪΚΟΣ'"
      ]
     },
     "execution_count": 146,
     "metadata": {},
     "output_type": "execute_result"
    }
   ],
   "source": [
    "home_team = teams.find('div',{'class':'t-col ellipsis no-padding-right text-center team-name home'}).text.strip()\n",
    "home_team"
   ]
  },
  {
   "cell_type": "code",
   "execution_count": 147,
   "id": "acb418a3",
   "metadata": {},
   "outputs": [
    {
     "data": {
      "text/plain": [
       "'ΑΠΟΛΛΩΝ ΣΜ.'"
      ]
     },
     "execution_count": 147,
     "metadata": {},
     "output_type": "execute_result"
    }
   ],
   "source": [
    "away_team = teams.find('div',{'class':'t-col ellipsis no-padding-left text-center team-name away'}).text.strip()\n",
    "away_team"
   ]
  },
  {
   "cell_type": "markdown",
   "id": "ebedac87",
   "metadata": {},
   "source": [
    "#### stats"
   ]
  },
  {
   "cell_type": "code",
   "execution_count": 148,
   "id": "cd4cdf78",
   "metadata": {},
   "outputs": [],
   "source": [
    "stats = game_table.find('div',{'class':'tbody'})"
   ]
  },
  {
   "cell_type": "code",
   "execution_count": 149,
   "id": "002f11ed",
   "metadata": {},
   "outputs": [],
   "source": [
    "game_stats = stats.find_all('div',{'class':'trow'})"
   ]
  },
  {
   "cell_type": "code",
   "execution_count": 150,
   "id": "39d2e5b2",
   "metadata": {},
   "outputs": [
    {
     "data": {
      "text/plain": [
       "14"
      ]
     },
     "execution_count": 150,
     "metadata": {},
     "output_type": "execute_result"
    }
   ],
   "source": [
    "len(stats.find_all('div',{'class':'trow'})) # each row shows goals, assists, attempts etc"
   ]
  },
  {
   "cell_type": "code",
   "execution_count": 151,
   "id": "acd03ef1",
   "metadata": {},
   "outputs": [
    {
     "data": {
      "text/plain": [
       "'1η Αγωνιστική'"
      ]
     },
     "execution_count": 151,
     "metadata": {},
     "output_type": "execute_result"
    }
   ],
   "source": [
    "fixture = soup.find('div',{'class':'row match mobile'}).find('h3',{'class':'leg-name'}).text.strip()\n",
    "fixture"
   ]
  },
  {
   "cell_type": "markdown",
   "id": "fcf29f40",
   "metadata": {},
   "source": [
    "### game_stats[0] --> goals"
   ]
  },
  {
   "cell_type": "markdown",
   "id": "4ccb362a",
   "metadata": {},
   "source": [
    "#### home team"
   ]
  },
  {
   "cell_type": "code",
   "execution_count": 152,
   "id": "2306d319",
   "metadata": {},
   "outputs": [],
   "source": [
    "home_team_score = game_stats[0].find('div',{'class':'t-col no-padding-right text-center'})"
   ]
  },
  {
   "cell_type": "code",
   "execution_count": 153,
   "id": "5b05cf8d",
   "metadata": {},
   "outputs": [
    {
     "data": {
      "text/plain": [
       "'4'"
      ]
     },
     "execution_count": 153,
     "metadata": {},
     "output_type": "execute_result"
    }
   ],
   "source": [
    "home_team_goals = home_team_score.find('div',{'class':'d-inline-block text-left info-section padding-left vertical-center'}).text.strip()\n",
    "home_team_goals"
   ]
  },
  {
   "cell_type": "markdown",
   "id": "56363b48",
   "metadata": {},
   "source": [
    "#### away team"
   ]
  },
  {
   "cell_type": "code",
   "execution_count": 155,
   "id": "de491e92",
   "metadata": {},
   "outputs": [],
   "source": [
    "away_team_score = game_stats[0].find('div','t-col no-padding-left text-center')"
   ]
  },
  {
   "cell_type": "code",
   "execution_count": 156,
   "id": "4279e44b",
   "metadata": {},
   "outputs": [
    {
     "data": {
      "text/plain": [
       "'0'"
      ]
     },
     "execution_count": 156,
     "metadata": {},
     "output_type": "execute_result"
    }
   ],
   "source": [
    "away_team_goals = away_team_score.find('div',{'class':'d-inline-block text-left info-section padding-left vertical-center'}).text.strip()\n",
    "away_team_goals"
   ]
  },
  {
   "cell_type": "markdown",
   "id": "b00611bd",
   "metadata": {},
   "source": [
    "### game_stats[1] --> assists"
   ]
  },
  {
   "cell_type": "code",
   "execution_count": 157,
   "id": "5433d39c",
   "metadata": {},
   "outputs": [],
   "source": [
    "home_team_section = game_stats[1].find('div',{'class':'t-col no-padding-right text-center'})"
   ]
  },
  {
   "cell_type": "code",
   "execution_count": 158,
   "id": "43cb962d",
   "metadata": {},
   "outputs": [
    {
     "data": {
      "text/plain": [
       "'2'"
      ]
     },
     "execution_count": 158,
     "metadata": {},
     "output_type": "execute_result"
    }
   ],
   "source": [
    "home_team_assists = home_team_section.find('div',{'class':'d-inline-block text-left info-section padding-left vertical-center'}).text.strip()\n",
    "home_team_assists"
   ]
  },
  {
   "cell_type": "code",
   "execution_count": 159,
   "id": "f0580067",
   "metadata": {},
   "outputs": [],
   "source": [
    "### patern is the same"
   ]
  },
  {
   "cell_type": "code",
   "execution_count": 160,
   "id": "d324300d",
   "metadata": {
    "scrolled": true
   },
   "outputs": [
    {
     "data": {
      "text/plain": [
       "['https://www.slgr.gr/el/game/2122006/statistics/',\n",
       " 'https://www.slgr.gr/el/game/2122005/statistics/',\n",
       " 'https://www.slgr.gr/el/game/2122003/statistics/',\n",
       " 'https://www.slgr.gr/el/game/2122007/statistics/',\n",
       " 'https://www.slgr.gr/el/game/2122001/statistics/',\n",
       " 'https://www.slgr.gr/el/game/2122004/statistics/',\n",
       " 'https://www.slgr.gr/el/game/2122002/statistics/']"
      ]
     },
     "execution_count": 160,
     "metadata": {},
     "output_type": "execute_result"
    }
   ],
   "source": [
    "games_statistics[0:7]"
   ]
  },
  {
   "cell_type": "markdown",
   "id": "e405f1e4",
   "metadata": {},
   "source": [
    "### Create the dataframe"
   ]
  },
  {
   "cell_type": "code",
   "execution_count": 161,
   "id": "e182ff67",
   "metadata": {},
   "outputs": [
    {
     "data": {
      "text/html": [
       "<div>\n",
       "<style scoped>\n",
       "    .dataframe tbody tr th:only-of-type {\n",
       "        vertical-align: middle;\n",
       "    }\n",
       "\n",
       "    .dataframe tbody tr th {\n",
       "        vertical-align: top;\n",
       "    }\n",
       "\n",
       "    .dataframe thead th {\n",
       "        text-align: right;\n",
       "    }\n",
       "</style>\n",
       "<table border=\"1\" class=\"dataframe\">\n",
       "  <thead>\n",
       "    <tr style=\"text-align: right;\">\n",
       "      <th></th>\n",
       "      <th>Home_Team</th>\n",
       "      <th>Away_Team</th>\n",
       "      <th>Home_Goals</th>\n",
       "      <th>Away_Goals</th>\n",
       "      <th>Home_Assists</th>\n",
       "      <th>Away_Assists</th>\n",
       "      <th>Home_Chances</th>\n",
       "      <th>Away_Chances</th>\n",
       "      <th>Home_Shots_Inside_Box</th>\n",
       "      <th>Away_Shots_Inside_Box</th>\n",
       "      <th>...</th>\n",
       "      <th>Home_Offsides</th>\n",
       "      <th>Away_Offsides</th>\n",
       "      <th>Home_Corners</th>\n",
       "      <th>Away_Corners</th>\n",
       "      <th>Home_Mistakes</th>\n",
       "      <th>Away_Mistakes</th>\n",
       "      <th>Home_Long_Passes(On_Target/Total)</th>\n",
       "      <th>Away_Long_Passes(On_Target/Total)</th>\n",
       "      <th>Fixture</th>\n",
       "      <th>Season</th>\n",
       "    </tr>\n",
       "  </thead>\n",
       "  <tbody>\n",
       "  </tbody>\n",
       "</table>\n",
       "<p>0 rows × 32 columns</p>\n",
       "</div>"
      ],
      "text/plain": [
       "Empty DataFrame\n",
       "Columns: [Home_Team, Away_Team, Home_Goals, Away_Goals, Home_Assists, Away_Assists, Home_Chances, Away_Chances, Home_Shots_Inside_Box, Away_Shots_Inside_Box, Home_Shots_Outside_Box, Away_Shots_Outside_Box, Home_Headers, Away_Headers, Home_Saves, Away_Saves, Home_Saves_1, Away_Saves_1, Home_Steals, Away_Steals, Home_Fouls, Away_Fouls, Home_Offsides, Away_Offsides, Home_Corners, Away_Corners, Home_Mistakes, Away_Mistakes, Home_Long_Passes(On_Target/Total), Away_Long_Passes(On_Target/Total), Fixture, Season]\n",
       "Index: []\n",
       "\n",
       "[0 rows x 32 columns]"
      ]
     },
     "execution_count": 161,
     "metadata": {},
     "output_type": "execute_result"
    }
   ],
   "source": [
    "columns = [\n",
    "    'Home_Team',\n",
    "    'Away_Team',\n",
    "    'Home_Goals',\n",
    "    'Away_Goals',\n",
    "    'Home_Assists',\n",
    "    'Away_Assists',\n",
    "    'Home_Chances',\n",
    "    'Away_Chances',\n",
    "    'Home_Shots_Inside_Box',\n",
    "    'Away_Shots_Inside_Box',\n",
    "    'Home_Shots_Outside_Box',\n",
    "    'Away_Shots_Outside_Box',\n",
    "    'Home_Headers',\n",
    "    'Away_Headers',\n",
    "    'Home_Saves',\n",
    "    'Away_Saves',\n",
    "    'Home_Saves_1', # not sure what is the difference in the original SL webpage\n",
    "    'Away_Saves_1',\n",
    "    'Home_Steals',\n",
    "    'Away_Steals',\n",
    "    'Home_Fouls',\n",
    "    'Away_Fouls',\n",
    "    'Home_Offsides',\n",
    "    'Away_Offsides',\n",
    "    'Home_Corners',\n",
    "    'Away_Corners',\n",
    "    'Home_Mistakes',\n",
    "    'Away_Mistakes',\n",
    "    'Home_Long_Passes(On_Target/Total)',\n",
    "    'Away_Long_Passes(On_Target/Total)',\n",
    "    'Fixture',\n",
    "    'Season'\n",
    "]\n",
    "df = pd.DataFrame(columns=columns)\n",
    "df"
   ]
  },
  {
   "cell_type": "code",
   "execution_count": 164,
   "id": "8073bb05",
   "metadata": {},
   "outputs": [
    {
     "data": {
      "application/vnd.jupyter.widget-view+json": {
       "model_id": "7e15466ad7e64c7c934be8e1b75e2ef8",
       "version_major": 2,
       "version_minor": 0
      },
      "text/plain": [
       "  0%|          | 0/3799 [00:00<?, ?it/s]"
      ]
     },
     "metadata": {},
     "output_type": "display_data"
    }
   ],
   "source": [
    "for link in tqdm(games_statistics): # links for each game statistics\n",
    "    \n",
    "    q = [] # create an empty list, that I will append in the dataframe in the end of every loop\n",
    "    \n",
    "    response = requests.get(link, headers= {'User-agent': 'Chrome'}, timeout= 15)\n",
    "    if response.status_code==200:\n",
    "        soup = BeautifulSoup(response.content, 'html.parser')\n",
    "        table_info = soup.find('div',{'class':'tab-pane active'})\n",
    "        game_table = soup.find('div', {'class':'game-table table-striped margin-bottom game-stats'})\n",
    "        teams = game_table.find('div',{'class':'thead'})\n",
    "        \n",
    "        home_team = teams.find('div',{'class':'t-col ellipsis no-padding-right text-center team-name home'}).text.strip()\n",
    "        # get home team\n",
    "        away_team = teams.find('div',{'class':'t-col ellipsis no-padding-left text-center team-name away'}).text.strip()\n",
    "        # get away team\n",
    "        stats = game_table.find('div',{'class':'tbody'})\n",
    "        game_stats = stats.find_all('div',{'class':'trow'}) # get inside the statistics table\n",
    "        \n",
    "        q.append(home_team) # append home_team name in the list \"q\"\n",
    "        q.append(away_team) # append away_team name in the list \"q\"\n",
    "        \n",
    "        rows = game_stats # Now I will start looping inside game_stats\n",
    "        for row in rows: # each row is a category (home_goals, away_goals, home_assists ... etc)\n",
    "            home_team = row.find('div',{'class':'t-col no-padding-right text-center'}) # Go in the home team section\n",
    "            away_team = row.find('div','t-col no-padding-left text-center') # Go in the away team section\n",
    "            try:\n",
    "                q.append(home_team.find('div',{'class':'d-inline-block text-left info-section padding-left vertical-center'}).text.strip())\n",
    "            except:\n",
    "                print(\"Nothing\")\n",
    "\n",
    "            try:\n",
    "                q.append(away_team.find('div',{'class':'d-inline-block text-left info-section padding-left vertical-center'}).text.strip())\n",
    "            except:\n",
    "                print(\"nothing\")\n",
    "            # The name for each category is the same for home or away team. What changes is the table where we search,\n",
    "            # that is, home_team and away_team\n",
    "        \n",
    "        fixture = soup.find('div',{'class':'row match mobile'}).find('h3',{'class':'leg-name'}).text.strip()\n",
    "        # Get the fixture of the game \n",
    "        q.append(fixture)\n",
    "        \n",
    "        # Get Season\n",
    "        # For seasons say 2021-2022, after split the first 4 characters are : 2122, so we want them all\n",
    "        if (link.split('game/')[1][0] == '2') or (link.split('game/')[1][0] == '1'):\n",
    "            season = link.split('game/')[1][0:4]\n",
    "        else:\n",
    "            # for season say 2006-2007, after split we have 607..., so we want only the first 3 characters\n",
    "            season = link.split('game/')[1][0:3]\n",
    "    \n",
    "        q.append(season)\n",
    "\n",
    "        \n",
    "        # Hence, we created the list q with all the information, so now append it in the dataframe\n",
    "        df.loc[df.shape[0]] = q\n",
    "        \n",
    "        sleep(0.6) # Wait 0.6 sec until the next request\n",
    "    else:\n",
    "        print('Server is down!')"
   ]
  },
  {
   "cell_type": "code",
   "execution_count": 165,
   "id": "aea73f36",
   "metadata": {},
   "outputs": [
    {
     "data": {
      "text/html": [
       "<div>\n",
       "<style scoped>\n",
       "    .dataframe tbody tr th:only-of-type {\n",
       "        vertical-align: middle;\n",
       "    }\n",
       "\n",
       "    .dataframe tbody tr th {\n",
       "        vertical-align: top;\n",
       "    }\n",
       "\n",
       "    .dataframe thead th {\n",
       "        text-align: right;\n",
       "    }\n",
       "</style>\n",
       "<table border=\"1\" class=\"dataframe\">\n",
       "  <thead>\n",
       "    <tr style=\"text-align: right;\">\n",
       "      <th></th>\n",
       "      <th>Home_Team</th>\n",
       "      <th>Away_Team</th>\n",
       "      <th>Home_Goals</th>\n",
       "      <th>Away_Goals</th>\n",
       "      <th>Home_Assists</th>\n",
       "      <th>Away_Assists</th>\n",
       "      <th>Home_Chances</th>\n",
       "      <th>Away_Chances</th>\n",
       "      <th>Home_Shots_Inside_Box</th>\n",
       "      <th>Away_Shots_Inside_Box</th>\n",
       "      <th>...</th>\n",
       "      <th>Home_Offsides</th>\n",
       "      <th>Away_Offsides</th>\n",
       "      <th>Home_Corners</th>\n",
       "      <th>Away_Corners</th>\n",
       "      <th>Home_Mistakes</th>\n",
       "      <th>Away_Mistakes</th>\n",
       "      <th>Home_Long_Passes(On_Target/Total)</th>\n",
       "      <th>Away_Long_Passes(On_Target/Total)</th>\n",
       "      <th>Fixture</th>\n",
       "      <th>Season</th>\n",
       "    </tr>\n",
       "  </thead>\n",
       "  <tbody>\n",
       "    <tr>\n",
       "      <th>0</th>\n",
       "      <td>ΠΑΝΑΙΤΩΛΙΚΟΣ</td>\n",
       "      <td>ΑΣΤΕΡΑΣ ΤΡΙΠ.</td>\n",
       "      <td>0</td>\n",
       "      <td>0</td>\n",
       "      <td>0</td>\n",
       "      <td>0</td>\n",
       "      <td>2</td>\n",
       "      <td>8</td>\n",
       "      <td>0</td>\n",
       "      <td>1</td>\n",
       "      <td>...</td>\n",
       "      <td>2</td>\n",
       "      <td>3</td>\n",
       "      <td>1</td>\n",
       "      <td>4</td>\n",
       "      <td>34</td>\n",
       "      <td>24</td>\n",
       "      <td>3/13</td>\n",
       "      <td>5/34</td>\n",
       "      <td>1η Αγωνιστική</td>\n",
       "      <td>2122</td>\n",
       "    </tr>\n",
       "    <tr>\n",
       "      <th>1</th>\n",
       "      <td>ΠΑΝΑΘΗΝΑΪΚΟΣ</td>\n",
       "      <td>ΑΠΟΛΛΩΝ ΣΜ.</td>\n",
       "      <td>4</td>\n",
       "      <td>0</td>\n",
       "      <td>2</td>\n",
       "      <td>0</td>\n",
       "      <td>9</td>\n",
       "      <td>10</td>\n",
       "      <td>3</td>\n",
       "      <td>4</td>\n",
       "      <td>...</td>\n",
       "      <td>2</td>\n",
       "      <td>0</td>\n",
       "      <td>1</td>\n",
       "      <td>3</td>\n",
       "      <td>37</td>\n",
       "      <td>36</td>\n",
       "      <td>4/8</td>\n",
       "      <td>10/25</td>\n",
       "      <td>1η Αγωνιστική</td>\n",
       "      <td>2122</td>\n",
       "    </tr>\n",
       "    <tr>\n",
       "      <th>2</th>\n",
       "      <td>ΒΟΛΟΣ ΝΠΣ</td>\n",
       "      <td>ΠΑΣ ΛΑΜΙΑ</td>\n",
       "      <td>2</td>\n",
       "      <td>1</td>\n",
       "      <td>1</td>\n",
       "      <td>0</td>\n",
       "      <td>11</td>\n",
       "      <td>13</td>\n",
       "      <td>6</td>\n",
       "      <td>5</td>\n",
       "      <td>...</td>\n",
       "      <td>2</td>\n",
       "      <td>1</td>\n",
       "      <td>4</td>\n",
       "      <td>8</td>\n",
       "      <td>35</td>\n",
       "      <td>30</td>\n",
       "      <td>8/11</td>\n",
       "      <td>13/24</td>\n",
       "      <td>1η Αγωνιστική</td>\n",
       "      <td>2122</td>\n",
       "    </tr>\n",
       "    <tr>\n",
       "      <th>3</th>\n",
       "      <td>Π.Α.Ο.Κ.</td>\n",
       "      <td>ΠΑΣ ΓΙΑΝΝΙΝΑ</td>\n",
       "      <td>0</td>\n",
       "      <td>1</td>\n",
       "      <td>0</td>\n",
       "      <td>0</td>\n",
       "      <td>15</td>\n",
       "      <td>4</td>\n",
       "      <td>6</td>\n",
       "      <td>3</td>\n",
       "      <td>...</td>\n",
       "      <td>1</td>\n",
       "      <td>3</td>\n",
       "      <td>8</td>\n",
       "      <td>4</td>\n",
       "      <td>52</td>\n",
       "      <td>44</td>\n",
       "      <td>4/29</td>\n",
       "      <td>6/13</td>\n",
       "      <td>1η Αγωνιστική</td>\n",
       "      <td>2122</td>\n",
       "    </tr>\n",
       "    <tr>\n",
       "      <th>4</th>\n",
       "      <td>A.E.K.</td>\n",
       "      <td>ΙΩΝΙΚΟΣ</td>\n",
       "      <td>3</td>\n",
       "      <td>0</td>\n",
       "      <td>2</td>\n",
       "      <td>0</td>\n",
       "      <td>18</td>\n",
       "      <td>4</td>\n",
       "      <td>6</td>\n",
       "      <td>2</td>\n",
       "      <td>...</td>\n",
       "      <td>2</td>\n",
       "      <td>1</td>\n",
       "      <td>8</td>\n",
       "      <td>0</td>\n",
       "      <td>36</td>\n",
       "      <td>26</td>\n",
       "      <td>12/26</td>\n",
       "      <td>3/9</td>\n",
       "      <td>1η Αγωνιστική</td>\n",
       "      <td>2122</td>\n",
       "    </tr>\n",
       "    <tr>\n",
       "      <th>...</th>\n",
       "      <td>...</td>\n",
       "      <td>...</td>\n",
       "      <td>...</td>\n",
       "      <td>...</td>\n",
       "      <td>...</td>\n",
       "      <td>...</td>\n",
       "      <td>...</td>\n",
       "      <td>...</td>\n",
       "      <td>...</td>\n",
       "      <td>...</td>\n",
       "      <td>...</td>\n",
       "      <td>...</td>\n",
       "      <td>...</td>\n",
       "      <td>...</td>\n",
       "      <td>...</td>\n",
       "      <td>...</td>\n",
       "      <td>...</td>\n",
       "      <td>...</td>\n",
       "      <td>...</td>\n",
       "      <td>...</td>\n",
       "      <td>...</td>\n",
       "    </tr>\n",
       "    <tr>\n",
       "      <th>3804</th>\n",
       "      <td>ΕΡΓΟΤΕΛΗΣ  Δ. ΕΝΩΣΙΣ</td>\n",
       "      <td>ΑΙΓΑΛΕΩ</td>\n",
       "      <td>3</td>\n",
       "      <td>0</td>\n",
       "      <td>3</td>\n",
       "      <td>0</td>\n",
       "      <td>21</td>\n",
       "      <td>13</td>\n",
       "      <td>7</td>\n",
       "      <td>1</td>\n",
       "      <td>...</td>\n",
       "      <td>2</td>\n",
       "      <td>0</td>\n",
       "      <td>13</td>\n",
       "      <td>3</td>\n",
       "      <td>42</td>\n",
       "      <td>40</td>\n",
       "      <td>7/24</td>\n",
       "      <td>7/23</td>\n",
       "      <td>30η Αγωνιστική</td>\n",
       "      <td>607</td>\n",
       "    </tr>\n",
       "    <tr>\n",
       "      <th>3805</th>\n",
       "      <td>ΙΩΝΙΚΟΣ</td>\n",
       "      <td>ΟΛΥΜΠΙΑΚΟΣ</td>\n",
       "      <td>3</td>\n",
       "      <td>5</td>\n",
       "      <td>3</td>\n",
       "      <td>2</td>\n",
       "      <td>12</td>\n",
       "      <td>18</td>\n",
       "      <td>3</td>\n",
       "      <td>7</td>\n",
       "      <td>...</td>\n",
       "      <td>4</td>\n",
       "      <td>0</td>\n",
       "      <td>8</td>\n",
       "      <td>7</td>\n",
       "      <td>48</td>\n",
       "      <td>47</td>\n",
       "      <td>4/19</td>\n",
       "      <td>8/19</td>\n",
       "      <td>30η Αγωνιστική</td>\n",
       "      <td>607</td>\n",
       "    </tr>\n",
       "    <tr>\n",
       "      <th>3806</th>\n",
       "      <td>Π.Α.Ο.Κ.</td>\n",
       "      <td>Ο.Φ.Η.</td>\n",
       "      <td>1</td>\n",
       "      <td>0</td>\n",
       "      <td>1</td>\n",
       "      <td>0</td>\n",
       "      <td>20</td>\n",
       "      <td>10</td>\n",
       "      <td>8</td>\n",
       "      <td>4</td>\n",
       "      <td>...</td>\n",
       "      <td>1</td>\n",
       "      <td>0</td>\n",
       "      <td>8</td>\n",
       "      <td>5</td>\n",
       "      <td>35</td>\n",
       "      <td>36</td>\n",
       "      <td>6/36</td>\n",
       "      <td>2/18</td>\n",
       "      <td>30η Αγωνιστική</td>\n",
       "      <td>607</td>\n",
       "    </tr>\n",
       "    <tr>\n",
       "      <th>3807</th>\n",
       "      <td>ΠΑΝΑΘΗΝΑΪΚΟΣ</td>\n",
       "      <td>ΚΕΡΚΥΡΑ</td>\n",
       "      <td>2</td>\n",
       "      <td>2</td>\n",
       "      <td>0</td>\n",
       "      <td>2</td>\n",
       "      <td>26</td>\n",
       "      <td>16</td>\n",
       "      <td>6</td>\n",
       "      <td>7</td>\n",
       "      <td>...</td>\n",
       "      <td>0</td>\n",
       "      <td>7</td>\n",
       "      <td>8</td>\n",
       "      <td>5</td>\n",
       "      <td>45</td>\n",
       "      <td>39</td>\n",
       "      <td>10/26</td>\n",
       "      <td>4/13</td>\n",
       "      <td>30η Αγωνιστική</td>\n",
       "      <td>607</td>\n",
       "    </tr>\n",
       "    <tr>\n",
       "      <th>3808</th>\n",
       "      <td>ΠΑΝΙΩΝΙΟΣ</td>\n",
       "      <td>A.E.K.</td>\n",
       "      <td>3</td>\n",
       "      <td>1</td>\n",
       "      <td>3</td>\n",
       "      <td>0</td>\n",
       "      <td>18</td>\n",
       "      <td>12</td>\n",
       "      <td>7</td>\n",
       "      <td>2</td>\n",
       "      <td>...</td>\n",
       "      <td>0</td>\n",
       "      <td>1</td>\n",
       "      <td>8</td>\n",
       "      <td>8</td>\n",
       "      <td>18</td>\n",
       "      <td>18</td>\n",
       "      <td>4/19</td>\n",
       "      <td>5/17</td>\n",
       "      <td>30η Αγωνιστική</td>\n",
       "      <td>607</td>\n",
       "    </tr>\n",
       "  </tbody>\n",
       "</table>\n",
       "<p>3809 rows × 32 columns</p>\n",
       "</div>"
      ],
      "text/plain": [
       "                 Home_Team      Away_Team Home_Goals Away_Goals Home_Assists  \\\n",
       "0             ΠΑΝΑΙΤΩΛΙΚΟΣ  ΑΣΤΕΡΑΣ ΤΡΙΠ.          0          0            0   \n",
       "1             ΠΑΝΑΘΗΝΑΪΚΟΣ    ΑΠΟΛΛΩΝ ΣΜ.          4          0            2   \n",
       "2                ΒΟΛΟΣ ΝΠΣ      ΠΑΣ ΛΑΜΙΑ          2          1            1   \n",
       "3                 Π.Α.Ο.Κ.   ΠΑΣ ΓΙΑΝΝΙΝΑ          0          1            0   \n",
       "4                   A.E.K.        ΙΩΝΙΚΟΣ          3          0            2   \n",
       "...                    ...            ...        ...        ...          ...   \n",
       "3804  ΕΡΓΟΤΕΛΗΣ  Δ. ΕΝΩΣΙΣ        ΑΙΓΑΛΕΩ          3          0            3   \n",
       "3805               ΙΩΝΙΚΟΣ     ΟΛΥΜΠΙΑΚΟΣ          3          5            3   \n",
       "3806              Π.Α.Ο.Κ.         Ο.Φ.Η.          1          0            1   \n",
       "3807          ΠΑΝΑΘΗΝΑΪΚΟΣ        ΚΕΡΚΥΡΑ          2          2            0   \n",
       "3808             ΠΑΝΙΩΝΙΟΣ         A.E.K.          3          1            3   \n",
       "\n",
       "     Away_Assists Home_Chances Away_Chances Home_Shots_Inside_Box  \\\n",
       "0               0            2            8                     0   \n",
       "1               0            9           10                     3   \n",
       "2               0           11           13                     6   \n",
       "3               0           15            4                     6   \n",
       "4               0           18            4                     6   \n",
       "...           ...          ...          ...                   ...   \n",
       "3804            0           21           13                     7   \n",
       "3805            2           12           18                     3   \n",
       "3806            0           20           10                     8   \n",
       "3807            2           26           16                     6   \n",
       "3808            0           18           12                     7   \n",
       "\n",
       "     Away_Shots_Inside_Box  ... Home_Offsides Away_Offsides Home_Corners  \\\n",
       "0                        1  ...             2             3            1   \n",
       "1                        4  ...             2             0            1   \n",
       "2                        5  ...             2             1            4   \n",
       "3                        3  ...             1             3            8   \n",
       "4                        2  ...             2             1            8   \n",
       "...                    ...  ...           ...           ...          ...   \n",
       "3804                     1  ...             2             0           13   \n",
       "3805                     7  ...             4             0            8   \n",
       "3806                     4  ...             1             0            8   \n",
       "3807                     7  ...             0             7            8   \n",
       "3808                     2  ...             0             1            8   \n",
       "\n",
       "     Away_Corners Home_Mistakes Away_Mistakes  \\\n",
       "0               4            34            24   \n",
       "1               3            37            36   \n",
       "2               8            35            30   \n",
       "3               4            52            44   \n",
       "4               0            36            26   \n",
       "...           ...           ...           ...   \n",
       "3804            3            42            40   \n",
       "3805            7            48            47   \n",
       "3806            5            35            36   \n",
       "3807            5            45            39   \n",
       "3808            8            18            18   \n",
       "\n",
       "     Home_Long_Passes(On_Target/Total) Away_Long_Passes(On_Target/Total)  \\\n",
       "0                                 3/13                              5/34   \n",
       "1                                  4/8                             10/25   \n",
       "2                                 8/11                             13/24   \n",
       "3                                 4/29                              6/13   \n",
       "4                                12/26                               3/9   \n",
       "...                                ...                               ...   \n",
       "3804                              7/24                              7/23   \n",
       "3805                              4/19                              8/19   \n",
       "3806                              6/36                              2/18   \n",
       "3807                             10/26                              4/13   \n",
       "3808                              4/19                              5/17   \n",
       "\n",
       "             Fixture Season  \n",
       "0      1η Αγωνιστική   2122  \n",
       "1      1η Αγωνιστική   2122  \n",
       "2      1η Αγωνιστική   2122  \n",
       "3      1η Αγωνιστική   2122  \n",
       "4      1η Αγωνιστική   2122  \n",
       "...              ...    ...  \n",
       "3804  30η Αγωνιστική    607  \n",
       "3805  30η Αγωνιστική    607  \n",
       "3806  30η Αγωνιστική    607  \n",
       "3807  30η Αγωνιστική    607  \n",
       "3808  30η Αγωνιστική    607  \n",
       "\n",
       "[3809 rows x 32 columns]"
      ]
     },
     "execution_count": 165,
     "metadata": {},
     "output_type": "execute_result"
    }
   ],
   "source": [
    "df"
   ]
  },
  {
   "cell_type": "code",
   "execution_count": 168,
   "id": "51a1cb64",
   "metadata": {},
   "outputs": [],
   "source": [
    "#df.to_csv('Greek_Super_League.csv')"
   ]
  },
  {
   "cell_type": "code",
   "execution_count": null,
   "id": "949eb99e",
   "metadata": {},
   "outputs": [],
   "source": []
  }
 ],
 "metadata": {
  "kernelspec": {
   "display_name": "Python 3 (ipykernel)",
   "language": "python",
   "name": "python3"
  },
  "language_info": {
   "codemirror_mode": {
    "name": "ipython",
    "version": 3
   },
   "file_extension": ".py",
   "mimetype": "text/x-python",
   "name": "python",
   "nbconvert_exporter": "python",
   "pygments_lexer": "ipython3",
   "version": "3.8.10"
  }
 },
 "nbformat": 4,
 "nbformat_minor": 5
}
